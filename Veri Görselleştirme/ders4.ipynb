{
 "cells": [
  {
   "cell_type": "code",
   "execution_count": 2,
   "id": "4f08e7fd",
   "metadata": {},
   "outputs": [],
   "source": [
    "import pandas as pd\n",
    "import numpy as np\n",
    "import matplotlib.pyplot as plt"
   ]
  },
  {
   "cell_type": "code",
   "execution_count": 9,
   "id": "eae6a1ea",
   "metadata": {},
   "outputs": [
    {
     "name": "stdout",
     "output_type": "stream",
     "text": [
      "Dosyadaki sütun isimleri:\n",
      "['vin', 'back_legroom', 'bed', 'bed_height', 'bed_length', 'body_type', 'cabin', 'city', 'city_fuel_economy', 'combine_fuel_economy', 'daysonmarket', 'dealer_zip', 'description', 'engine_cylinders', 'engine_displacement', 'engine_type', 'exterior_color', 'fleet', 'frame_damaged', 'franchise_dealer', 'franchise_make', 'front_legroom', 'fuel_tank_volume', 'fuel_type', 'has_accidents', 'height', 'highway_fuel_economy', 'horsepower', 'interior_color', 'isCab', 'is_certified', 'is_cpo', 'is_new', 'is_oemcpo', 'latitude', 'length', 'listed_date', 'listing_color', 'listing_id', 'longitude', 'main_picture_url', 'major_options', 'make_name', 'maximum_seating', 'mileage', 'model_name', 'owner_count', 'power', 'price', 'salvage', 'savings_amount', 'seller_rating', 'sp_id', 'sp_name', 'theft_title', 'torque', 'transmission', 'transmission_display', 'trimId', 'trim_name', 'vehicle_damage_category', 'wheel_system', 'wheel_system_display', 'wheelbase', 'width', 'year']\n"
     ]
    }
   ],
   "source": [
    "# Önce tüm sütunları okuyarak mevcut sütun isimlerini görün\n",
    "df_all_columns = pd.read_csv(\"C:\\\\Users\\\\rbesli\\\\Desktop\\\\borusan - data engineer eğitimleri - Caner Hoca\\\\Veri Görselleştirme\\\\used_cars_data.csv\", nrows=1)\n",
    "print(\"Dosyadaki sütun isimleri:\")\n",
    "print(df_all_columns.columns.tolist())"
   ]
  },
  {
   "cell_type": "code",
   "execution_count": null,
   "id": "bbad19e8",
   "metadata": {},
   "outputs": [],
   "source": [
    "df = pd.read_csv(\"C:\\\\Users\\\\rbesli\\\\Desktop\\\\borusan - data engineer eğitimleri - Caner Hoca\\\\Veri Görselleştirme\\\\used_cars_data.csv\", \n",
    "                 usecols=[\"posting_date\", \"price\"], parse_dates=[\"posting_date\"])\n",
    "\n",
    "#indeksleme işlemi.         #filtreleme gerçekleştireceğiz\n",
    "df = df[(df[\"price\"]>= 500) & (df[\"price\"] <= 200_000)]  # fiyat aralığı belirledik \n"
   ]
  },
  {
   "cell_type": "code",
   "execution_count": null,
   "id": "ca56ff0c",
   "metadata": {},
   "outputs": [],
   "source": [
    "# posting_date sütunundaki tarih bilgisinden sadece gün kısmını (tarih formatında) alıyoruz\n",
    "# dt.date özelliği datetime nesnesinden sadece tarih kısmını (saat:dakika:saniye olmadan) alır\n",
    "df[\"day\"] = df[\"posting_date\"].dt.date      \n",
    "\n",
    "daily = df.groupby(\"day\")[\"price\"].agg([\"size\", \"median\"]).rename(columns={\"size\":\"count\", \"median\":\"med_price\"})  \n",
    "# Günlere göre fiyatları grupla\n",
    "# Her gün için: kayıt sayısı ve medyan fiyat hesapla\n",
    "# Sütun isimlerini daha anlaşılır yap: size -> count, median -> med_price\n"
   ]
  },
  {
   "cell_type": "code",
   "execution_count": null,
   "id": "944b0b4f",
   "metadata": {},
   "outputs": [],
   "source": [
    "# 'count' sütunundaki günlük kayıt sayılarını al\n",
    "# 7 günlük hareketli pencere oluştur\n",
    "# Minimum 3 veri noktası olduğunda hesaplama yap\n",
    "# 7 günlük hareketli ortalamayı hesapla\n",
    "\n",
    "daily[\"count_7d\"] = daily[\"count\"].rolling(7, min_periods=3).mean()\n",
    "\n",
    "daily[\"price_7d\"] = daily[\"med_price\"].rolling(7, min_periods=3).mean()\n",
    "\n"
   ]
  },
  {
   "cell_type": "code",
   "execution_count": null,
   "id": "006e8811",
   "metadata": {},
   "outputs": [],
   "source": [
    "plt.figure(figsize=(12,5)) #grafiğimizin boyutu\n",
    "plt.plot(daily.index, daily[\"count\"], alpha=0.5, label=\"Günlük İlan Sayısı\") \n",
    "#varsayılan olarak gri renkli noktalar verilecek bunda\n",
    "plt.plot(daily.index, daily[\"count_7d\"], label=\"7 Günlük Ortalama\", color=\"red\")\n",
    "plt.xlabel(\"Tarih\")\n",
    "plt.ylabel(\"Adet\")\n",
    "plt.title(\"7 Günlük İlan Sayısı\")\n",
    "plt.show()"
   ]
  },
  {
   "cell_type": "code",
   "execution_count": null,
   "id": "8384cfc8",
   "metadata": {},
   "outputs": [],
   "source": [
    "plt.figure(figsize=(12,5))\n",
    "plt.plot(daily.index, daily[\"med_price\"], alpha=0.5, label = \"Günlük Medyan Fiyat\")\n",
    "plt.plot(daily.index, daily[\"price_7d\"], label=\"7 Günlük Ortalama\", color=\"red\")\n",
    "plt.xlabel(\"Tarih\")\n",
    "plt.ylabel(\"USD\")\n",
    "plt.title(\"7 Günlük İlan Sayısı\")\n",
    "plt.show()\n"
   ]
  },
  {
   "cell_type": "code",
   "execution_count": 11,
   "id": "1f62f5ac",
   "metadata": {},
   "outputs": [],
   "source": [
    "import seaborn as sns"
   ]
  },
  {
   "cell_type": "code",
   "execution_count": null,
   "id": "489383e7",
   "metadata": {},
   "outputs": [],
   "source": [
    "df = df.dropna(subset=[\"price\"]) #Eksik verilerin temizliği"
   ]
  },
  {
   "cell_type": "code",
   "execution_count": null,
   "id": "dace30dc",
   "metadata": {},
   "outputs": [],
   "source": [
    "df = df[(df[\"price\"] >= 500) &(df[\"price\"] <= 200_000)]\n",
    "\n",
    "plt.figure(figsize=(12,6))\n",
    "\n",
    "sns.kdeplot(df[\"price\"], shade=True, color=\"steelblue\", bw_adjust=0.5)\n",
    "\n",
    "plt.xlabel(\"Fiyat(USD)\")\n",
    "plt.ylabel(\"Yoğunluk\")\n",
    "plt.title(\"Araç Fiyat Aralık Dağılımı\")\n",
    "plt.legend() #grafiğin bozulmadan ekranda bastırılması\n",
    "plt.tight_layout() #grafiğin bozulmadan ekranda bastırılması\n",
    "plt.show()"
   ]
  },
  {
   "cell_type": "code",
   "execution_count": null,
   "id": "98da784c",
   "metadata": {},
   "outputs": [],
   "source": []
  }
 ],
 "metadata": {
  "kernelspec": {
   "display_name": "Python 3",
   "language": "python",
   "name": "python3"
  },
  "language_info": {
   "codemirror_mode": {
    "name": "ipython",
    "version": 3
   },
   "file_extension": ".py",
   "mimetype": "text/x-python",
   "name": "python",
   "nbconvert_exporter": "python",
   "pygments_lexer": "ipython3",
   "version": "3.13.7"
  }
 },
 "nbformat": 4,
 "nbformat_minor": 5
}
