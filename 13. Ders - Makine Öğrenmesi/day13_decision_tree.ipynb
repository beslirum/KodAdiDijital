{
 "cells": [
  {
   "cell_type": "markdown",
   "id": "9423a4da",
   "metadata": {},
   "source": [
    "# Decision Trees"
   ]
  },
  {
   "cell_type": "markdown",
   "id": "d4cc792c",
   "metadata": {},
   "source": [
    "1. Information Gain\n",
    "\n",
    "    Information Theory\n",
    "\n",
    "    Entropy => $\\sum -p \\log (p)$"
   ]
  },
  {
   "cell_type": "code",
   "execution_count": 1,
   "id": "d051cb9b",
   "metadata": {},
   "outputs": [],
   "source": [
    "import math\n",
    "import pandas as pd\n",
    "import numpy as np\n",
    "import matplotlib.pyplot as plt\n",
    "import networkx as nx\n",
    "\n",
    "from tqdm import tqdm"
   ]
  },
  {
   "cell_type": "code",
   "execution_count": 2,
   "id": "d37c89d9",
   "metadata": {},
   "outputs": [
    {
     "data": {
      "application/vnd.microsoft.datawrangler.viewer.v0+json": {
       "columns": [
        {
         "name": "index",
         "rawType": "int64",
         "type": "integer"
        },
        {
         "name": "id",
         "rawType": "int64",
         "type": "integer"
        },
        {
         "name": "Marital status",
         "rawType": "int64",
         "type": "integer"
        },
        {
         "name": "Application mode",
         "rawType": "int64",
         "type": "integer"
        },
        {
         "name": "Application order",
         "rawType": "int64",
         "type": "integer"
        },
        {
         "name": "Course",
         "rawType": "int64",
         "type": "integer"
        },
        {
         "name": "Daytime/evening attendance",
         "rawType": "int64",
         "type": "integer"
        },
        {
         "name": "Previous qualification",
         "rawType": "int64",
         "type": "integer"
        },
        {
         "name": "Previous qualification (grade)",
         "rawType": "float64",
         "type": "float"
        },
        {
         "name": "Nacionality",
         "rawType": "int64",
         "type": "integer"
        },
        {
         "name": "Mother's qualification",
         "rawType": "int64",
         "type": "integer"
        },
        {
         "name": "Father's qualification",
         "rawType": "int64",
         "type": "integer"
        },
        {
         "name": "Mother's occupation",
         "rawType": "int64",
         "type": "integer"
        },
        {
         "name": "Father's occupation",
         "rawType": "int64",
         "type": "integer"
        },
        {
         "name": "Admission grade",
         "rawType": "float64",
         "type": "float"
        },
        {
         "name": "Displaced",
         "rawType": "int64",
         "type": "integer"
        },
        {
         "name": "Educational special needs",
         "rawType": "int64",
         "type": "integer"
        },
        {
         "name": "Debtor",
         "rawType": "int64",
         "type": "integer"
        },
        {
         "name": "Tuition fees up to date",
         "rawType": "int64",
         "type": "integer"
        },
        {
         "name": "Gender",
         "rawType": "int64",
         "type": "integer"
        },
        {
         "name": "Scholarship holder",
         "rawType": "int64",
         "type": "integer"
        },
        {
         "name": "Age at enrollment",
         "rawType": "int64",
         "type": "integer"
        },
        {
         "name": "International",
         "rawType": "int64",
         "type": "integer"
        },
        {
         "name": "Curricular units 1st sem (credited)",
         "rawType": "int64",
         "type": "integer"
        },
        {
         "name": "Curricular units 1st sem (enrolled)",
         "rawType": "int64",
         "type": "integer"
        },
        {
         "name": "Curricular units 1st sem (evaluations)",
         "rawType": "int64",
         "type": "integer"
        },
        {
         "name": "Curricular units 1st sem (approved)",
         "rawType": "int64",
         "type": "integer"
        },
        {
         "name": "Curricular units 1st sem (grade)",
         "rawType": "float64",
         "type": "float"
        },
        {
         "name": "Curricular units 1st sem (without evaluations)",
         "rawType": "int64",
         "type": "integer"
        },
        {
         "name": "Curricular units 2nd sem (credited)",
         "rawType": "int64",
         "type": "integer"
        },
        {
         "name": "Curricular units 2nd sem (enrolled)",
         "rawType": "int64",
         "type": "integer"
        },
        {
         "name": "Curricular units 2nd sem (evaluations)",
         "rawType": "int64",
         "type": "integer"
        },
        {
         "name": "Curricular units 2nd sem (approved)",
         "rawType": "int64",
         "type": "integer"
        },
        {
         "name": "Curricular units 2nd sem (grade)",
         "rawType": "float64",
         "type": "float"
        },
        {
         "name": "Curricular units 2nd sem (without evaluations)",
         "rawType": "int64",
         "type": "integer"
        },
        {
         "name": "Unemployment rate",
         "rawType": "float64",
         "type": "float"
        },
        {
         "name": "Inflation rate",
         "rawType": "float64",
         "type": "float"
        },
        {
         "name": "GDP",
         "rawType": "float64",
         "type": "float"
        },
        {
         "name": "Target",
         "rawType": "object",
         "type": "string"
        }
       ],
       "ref": "13cd9264-0a0b-47ec-a594-0cceed29463b",
       "rows": [
        [
         "0",
         "0",
         "1",
         "1",
         "1",
         "9238",
         "1",
         "1",
         "126.0",
         "1",
         "1",
         "19",
         "5",
         "5",
         "122.6",
         "0",
         "0",
         "0",
         "1",
         "0",
         "1",
         "18",
         "0",
         "0",
         "6",
         "6",
         "6",
         "14.5",
         "0",
         "0",
         "6",
         "7",
         "6",
         "12.428571428571429",
         "0",
         "11.1",
         "0.6",
         "2.02",
         "Graduate"
        ],
        [
         "1",
         "1",
         "1",
         "17",
         "1",
         "9238",
         "1",
         "1",
         "125.0",
         "1",
         "19",
         "19",
         "9",
         "9",
         "119.8",
         "1",
         "0",
         "0",
         "1",
         "0",
         "0",
         "18",
         "0",
         "0",
         "6",
         "8",
         "4",
         "11.6",
         "0",
         "0",
         "6",
         "9",
         "0",
         "0.0",
         "0",
         "11.1",
         "0.6",
         "2.02",
         "Dropout"
        ],
        [
         "2",
         "2",
         "1",
         "17",
         "2",
         "9254",
         "1",
         "1",
         "137.0",
         "1",
         "3",
         "19",
         "2",
         "3",
         "144.7",
         "0",
         "0",
         "0",
         "1",
         "1",
         "0",
         "18",
         "0",
         "0",
         "6",
         "0",
         "0",
         "0.0",
         "0",
         "0",
         "6",
         "0",
         "0",
         "0.0",
         "0",
         "16.2",
         "0.3",
         "-0.92",
         "Dropout"
        ],
        [
         "3",
         "3",
         "1",
         "1",
         "3",
         "9500",
         "1",
         "1",
         "131.0",
         "1",
         "19",
         "3",
         "3",
         "2",
         "126.1",
         "1",
         "0",
         "0",
         "1",
         "0",
         "1",
         "18",
         "0",
         "0",
         "7",
         "9",
         "7",
         "12.59125",
         "0",
         "0",
         "8",
         "11",
         "7",
         "12.820000000000002",
         "0",
         "11.1",
         "0.6",
         "2.02",
         "Enrolled"
        ],
        [
         "4",
         "4",
         "1",
         "1",
         "2",
         "9500",
         "1",
         "1",
         "132.0",
         "1",
         "19",
         "37",
         "4",
         "9",
         "120.1",
         "1",
         "0",
         "0",
         "1",
         "0",
         "0",
         "18",
         "0",
         "0",
         "7",
         "12",
         "6",
         "12.933333333333332",
         "0",
         "0",
         "7",
         "12",
         "6",
         "12.933333333333332",
         "0",
         "7.6",
         "2.6",
         "0.32",
         "Graduate"
        ]
       ],
       "shape": {
        "columns": 38,
        "rows": 5
       }
      },
      "text/html": [
       "<div>\n",
       "<style scoped>\n",
       "    .dataframe tbody tr th:only-of-type {\n",
       "        vertical-align: middle;\n",
       "    }\n",
       "\n",
       "    .dataframe tbody tr th {\n",
       "        vertical-align: top;\n",
       "    }\n",
       "\n",
       "    .dataframe thead th {\n",
       "        text-align: right;\n",
       "    }\n",
       "</style>\n",
       "<table border=\"1\" class=\"dataframe\">\n",
       "  <thead>\n",
       "    <tr style=\"text-align: right;\">\n",
       "      <th></th>\n",
       "      <th>id</th>\n",
       "      <th>Marital status</th>\n",
       "      <th>Application mode</th>\n",
       "      <th>Application order</th>\n",
       "      <th>Course</th>\n",
       "      <th>Daytime/evening attendance</th>\n",
       "      <th>Previous qualification</th>\n",
       "      <th>Previous qualification (grade)</th>\n",
       "      <th>Nacionality</th>\n",
       "      <th>Mother's qualification</th>\n",
       "      <th>...</th>\n",
       "      <th>Curricular units 2nd sem (credited)</th>\n",
       "      <th>Curricular units 2nd sem (enrolled)</th>\n",
       "      <th>Curricular units 2nd sem (evaluations)</th>\n",
       "      <th>Curricular units 2nd sem (approved)</th>\n",
       "      <th>Curricular units 2nd sem (grade)</th>\n",
       "      <th>Curricular units 2nd sem (without evaluations)</th>\n",
       "      <th>Unemployment rate</th>\n",
       "      <th>Inflation rate</th>\n",
       "      <th>GDP</th>\n",
       "      <th>Target</th>\n",
       "    </tr>\n",
       "  </thead>\n",
       "  <tbody>\n",
       "    <tr>\n",
       "      <th>0</th>\n",
       "      <td>0</td>\n",
       "      <td>1</td>\n",
       "      <td>1</td>\n",
       "      <td>1</td>\n",
       "      <td>9238</td>\n",
       "      <td>1</td>\n",
       "      <td>1</td>\n",
       "      <td>126.0</td>\n",
       "      <td>1</td>\n",
       "      <td>1</td>\n",
       "      <td>...</td>\n",
       "      <td>0</td>\n",
       "      <td>6</td>\n",
       "      <td>7</td>\n",
       "      <td>6</td>\n",
       "      <td>12.428571</td>\n",
       "      <td>0</td>\n",
       "      <td>11.1</td>\n",
       "      <td>0.6</td>\n",
       "      <td>2.02</td>\n",
       "      <td>Graduate</td>\n",
       "    </tr>\n",
       "    <tr>\n",
       "      <th>1</th>\n",
       "      <td>1</td>\n",
       "      <td>1</td>\n",
       "      <td>17</td>\n",
       "      <td>1</td>\n",
       "      <td>9238</td>\n",
       "      <td>1</td>\n",
       "      <td>1</td>\n",
       "      <td>125.0</td>\n",
       "      <td>1</td>\n",
       "      <td>19</td>\n",
       "      <td>...</td>\n",
       "      <td>0</td>\n",
       "      <td>6</td>\n",
       "      <td>9</td>\n",
       "      <td>0</td>\n",
       "      <td>0.000000</td>\n",
       "      <td>0</td>\n",
       "      <td>11.1</td>\n",
       "      <td>0.6</td>\n",
       "      <td>2.02</td>\n",
       "      <td>Dropout</td>\n",
       "    </tr>\n",
       "    <tr>\n",
       "      <th>2</th>\n",
       "      <td>2</td>\n",
       "      <td>1</td>\n",
       "      <td>17</td>\n",
       "      <td>2</td>\n",
       "      <td>9254</td>\n",
       "      <td>1</td>\n",
       "      <td>1</td>\n",
       "      <td>137.0</td>\n",
       "      <td>1</td>\n",
       "      <td>3</td>\n",
       "      <td>...</td>\n",
       "      <td>0</td>\n",
       "      <td>6</td>\n",
       "      <td>0</td>\n",
       "      <td>0</td>\n",
       "      <td>0.000000</td>\n",
       "      <td>0</td>\n",
       "      <td>16.2</td>\n",
       "      <td>0.3</td>\n",
       "      <td>-0.92</td>\n",
       "      <td>Dropout</td>\n",
       "    </tr>\n",
       "    <tr>\n",
       "      <th>3</th>\n",
       "      <td>3</td>\n",
       "      <td>1</td>\n",
       "      <td>1</td>\n",
       "      <td>3</td>\n",
       "      <td>9500</td>\n",
       "      <td>1</td>\n",
       "      <td>1</td>\n",
       "      <td>131.0</td>\n",
       "      <td>1</td>\n",
       "      <td>19</td>\n",
       "      <td>...</td>\n",
       "      <td>0</td>\n",
       "      <td>8</td>\n",
       "      <td>11</td>\n",
       "      <td>7</td>\n",
       "      <td>12.820000</td>\n",
       "      <td>0</td>\n",
       "      <td>11.1</td>\n",
       "      <td>0.6</td>\n",
       "      <td>2.02</td>\n",
       "      <td>Enrolled</td>\n",
       "    </tr>\n",
       "    <tr>\n",
       "      <th>4</th>\n",
       "      <td>4</td>\n",
       "      <td>1</td>\n",
       "      <td>1</td>\n",
       "      <td>2</td>\n",
       "      <td>9500</td>\n",
       "      <td>1</td>\n",
       "      <td>1</td>\n",
       "      <td>132.0</td>\n",
       "      <td>1</td>\n",
       "      <td>19</td>\n",
       "      <td>...</td>\n",
       "      <td>0</td>\n",
       "      <td>7</td>\n",
       "      <td>12</td>\n",
       "      <td>6</td>\n",
       "      <td>12.933333</td>\n",
       "      <td>0</td>\n",
       "      <td>7.6</td>\n",
       "      <td>2.6</td>\n",
       "      <td>0.32</td>\n",
       "      <td>Graduate</td>\n",
       "    </tr>\n",
       "  </tbody>\n",
       "</table>\n",
       "<p>5 rows × 38 columns</p>\n",
       "</div>"
      ],
      "text/plain": [
       "   id  Marital status  Application mode  Application order  Course  \\\n",
       "0   0               1                 1                  1    9238   \n",
       "1   1               1                17                  1    9238   \n",
       "2   2               1                17                  2    9254   \n",
       "3   3               1                 1                  3    9500   \n",
       "4   4               1                 1                  2    9500   \n",
       "\n",
       "   Daytime/evening attendance  Previous qualification  \\\n",
       "0                           1                       1   \n",
       "1                           1                       1   \n",
       "2                           1                       1   \n",
       "3                           1                       1   \n",
       "4                           1                       1   \n",
       "\n",
       "   Previous qualification (grade)  Nacionality  Mother's qualification  ...  \\\n",
       "0                           126.0            1                       1  ...   \n",
       "1                           125.0            1                      19  ...   \n",
       "2                           137.0            1                       3  ...   \n",
       "3                           131.0            1                      19  ...   \n",
       "4                           132.0            1                      19  ...   \n",
       "\n",
       "   Curricular units 2nd sem (credited)  Curricular units 2nd sem (enrolled)  \\\n",
       "0                                    0                                    6   \n",
       "1                                    0                                    6   \n",
       "2                                    0                                    6   \n",
       "3                                    0                                    8   \n",
       "4                                    0                                    7   \n",
       "\n",
       "   Curricular units 2nd sem (evaluations)  \\\n",
       "0                                       7   \n",
       "1                                       9   \n",
       "2                                       0   \n",
       "3                                      11   \n",
       "4                                      12   \n",
       "\n",
       "   Curricular units 2nd sem (approved)  Curricular units 2nd sem (grade)  \\\n",
       "0                                    6                         12.428571   \n",
       "1                                    0                          0.000000   \n",
       "2                                    0                          0.000000   \n",
       "3                                    7                         12.820000   \n",
       "4                                    6                         12.933333   \n",
       "\n",
       "   Curricular units 2nd sem (without evaluations)  Unemployment rate  \\\n",
       "0                                               0               11.1   \n",
       "1                                               0               11.1   \n",
       "2                                               0               16.2   \n",
       "3                                               0               11.1   \n",
       "4                                               0                7.6   \n",
       "\n",
       "   Inflation rate   GDP    Target  \n",
       "0             0.6  2.02  Graduate  \n",
       "1             0.6  2.02   Dropout  \n",
       "2             0.3 -0.92   Dropout  \n",
       "3             0.6  2.02  Enrolled  \n",
       "4             2.6  0.32  Graduate  \n",
       "\n",
       "[5 rows x 38 columns]"
      ]
     },
     "execution_count": 2,
     "metadata": {},
     "output_type": "execute_result"
    }
   ],
   "source": [
    "df = pd.read_csv('./data/train.csv')\n",
    "df.head()"
   ]
  },
  {
   "cell_type": "code",
   "execution_count": 3,
   "id": "b701db3f",
   "metadata": {},
   "outputs": [],
   "source": [
    "X = df.drop(['Target'], axis=1)\n",
    "y = df['Target']"
   ]
  },
  {
   "cell_type": "code",
   "execution_count": 4,
   "id": "306dbe96",
   "metadata": {},
   "outputs": [],
   "source": [
    "def entropy(y):\n",
    "    values, counts = np.unique(y, return_counts=True)\n",
    "    probs = counts / counts.sum()\n",
    "    return -np.sum(probs * np.log2(probs))\n",
    "\n",
    "def gini(y):\n",
    "    values, counts = np.unique(y, return_counts=True)\n",
    "    probs = counts / counts.sum()\n",
    "    return 1 - np.sum(probs**2)"
   ]
  },
  {
   "cell_type": "code",
   "execution_count": 5,
   "id": "bea10c87",
   "metadata": {},
   "outputs": [
    {
     "data": {
      "text/plain": [
       "(np.float64(1.498497439724364), np.float64(0.6277586455288842))"
      ]
     },
     "execution_count": 5,
     "metadata": {},
     "output_type": "execute_result"
    }
   ],
   "source": [
    "entropy(y), gini(y)"
   ]
  },
  {
   "cell_type": "code",
   "execution_count": 6,
   "id": "50bf8497",
   "metadata": {},
   "outputs": [],
   "source": [
    "def best_split(X, y, criterion='gini'):\n",
    "    best_feature, best_threshold, best_impurity = None, None, float('inf')\n",
    "    impurity_func = gini if criterion == 'gini' else entropy\n",
    "\n",
    "    for feature in tqdm(X.columns):\n",
    "        unique_values = X[feature].unique()\n",
    "\n",
    "        for value in unique_values:\n",
    "            if np.issubdtype(X[feature].dtype, np.number):\n",
    "                left_mask = (X[feature] <= value)\n",
    "            else:\n",
    "                left_mask = (X[feature] == value)\n",
    "            right_mask = ~left_mask\n",
    "\n",
    "            if left_mask.sum() == 0 or right_mask.sum() == 0:\n",
    "                continue\n",
    "\n",
    "            left_impurity = impurity_func(y[left_mask])\n",
    "            right_impurity = impurity_func(y[right_mask])\n",
    "\n",
    "            weighted_impurity = ((left_mask.sum() / len(y)) * left_impurity +\n",
    "                                 (right_mask.sum() / len(y)) * right_impurity)\n",
    "\n",
    "            if weighted_impurity < best_impurity:\n",
    "                best_feature = feature\n",
    "                best_threshold = value\n",
    "                best_impurity = weighted_impurity\n",
    "            \n",
    "    return best_feature, best_threshold, best_impurity"
   ]
  },
  {
   "cell_type": "code",
   "execution_count": 7,
   "id": "ed65c0d5",
   "metadata": {},
   "outputs": [],
   "source": [
    "selected_features = ['Curricular units 1st sem (grade)', 'Curricular units 2nd sem (grade)',\n",
    "                     'Previous qualification (grade)', 'Admission grade',\n",
    "                     'Age at enrollment']\n",
    "\n",
    "X_selected = X[selected_features]"
   ]
  },
  {
   "cell_type": "code",
   "execution_count": 9,
   "id": "6a304131",
   "metadata": {},
   "outputs": [
    {
     "name": "stderr",
     "output_type": "stream",
     "text": [
      "100%|██████████| 5/5 [01:22<00:00, 16.54s/it]\n"
     ]
    },
    {
     "data": {
      "text/plain": [
       "('Curricular units 2nd sem (grade)',\n",
       " np.float64(10.5),\n",
       " np.float64(0.43577337913793224))"
      ]
     },
     "execution_count": 9,
     "metadata": {},
     "output_type": "execute_result"
    }
   ],
   "source": [
    "best_split(X_selected, y)"
   ]
  },
  {
   "cell_type": "markdown",
   "id": "0c97a252",
   "metadata": {},
   "source": [
    "## Agac Kurulumu (Recursive)"
   ]
  },
  {
   "cell_type": "code",
   "execution_count": 8,
   "id": "a0e1a8e8",
   "metadata": {},
   "outputs": [],
   "source": [
    "class Node:\n",
    "    def __init__(self, feature=None, threshold=None, left=None, right=None, value=None):\n",
    "        self.feature = feature\n",
    "        self.threshold = threshold\n",
    "        self.left = left\n",
    "        self.right = right\n",
    "        self.value = value"
   ]
  },
  {
   "cell_type": "code",
   "execution_count": 9,
   "id": "769e3376",
   "metadata": {},
   "outputs": [],
   "source": [
    "def build_tree(X, y, depth=0, max_depth=3, criterion='gini'):\n",
    "    if len(np.unique(y)) == 1 or depth >= max_depth:\n",
    "        values, counts = np.unique(y, return_counts=True)\n",
    "        return Node(value=values[np.argmax(counts)])\n",
    "\n",
    "    feature, threshold, score = best_split(X, y, criterion=criterion)\n",
    "    if feature is None:\n",
    "        values, counts = values, counts = np.unique(y, return_counts=True)\n",
    "        return Node(value=values[np.argmax(counts)])\n",
    "    \n",
    "    if X[feature].dtype == 'object':\n",
    "        left_mask = (X[feature] == threshold)\n",
    "    else:\n",
    "        left_mask = (X[feature] <= threshold)\n",
    "    right_mask = ~left_mask\n",
    "    \n",
    "    left = build_tree(X[left_mask], \n",
    "                      y[left_mask],\n",
    "                      depth=depth+1,\n",
    "                      max_depth=max_depth,\n",
    "                      criterion=criterion)\n",
    "    \n",
    "    right = build_tree(X[right_mask], \n",
    "                      y[right_mask],\n",
    "                      depth=depth+1,\n",
    "                      max_depth=max_depth,\n",
    "                      criterion=criterion)\n",
    "    \n",
    "    return Node(feature, threshold, left, right)\n"
   ]
  },
  {
   "cell_type": "code",
   "execution_count": null,
   "id": "3cb175e5",
   "metadata": {},
   "outputs": [],
   "source": [
    "def plot_decision_tree(node, depth=0, pos=None, parent_pos=None, text='', x_offset=0.5, y_offset=1.5, ax=None):\n",
    "    if ax is None:\n",
    "        fig, ax = plt.subplots(figsize=(12, 6))\n",
    "        ax.axis('off')\n",
    "        pos = (0.5, 1.0)  # Starting position\n",
    "\n",
    "    # Label for the current node\n",
    "    if node.value is not None:\n",
    "        label = f'Leaf: {node.value}'\n",
    "    else:\n",
    "        label = f'{node.feature} ≤ {node.threshold}'\n",
    "\n",
    "    # Draw current node\n",
    "    ax.text(pos[0], pos[1], label, ha='center', bbox=dict(boxstyle='round', facecolor='lightblue'))\n",
    "\n",
    "    # Draw connecting line from parent to current node\n",
    "    if parent_pos is not None:\n",
    "        ax.plot([parent_pos[0], pos[0]], [parent_pos[1], pos[1]], 'k-')\n",
    "        mid_x = (parent_pos[0] + pos[0]) / 2\n",
    "        mid_y = (parent_pos[1] + pos[1]) / 2\n",
    "        ax.text(mid_x, mid_y, text, fontsize=9)\n",
    "\n",
    "    # Compute positions for children\n",
    "    if node.left:\n",
    "        left_x = pos[0] - x_offset / (2 ** depth)\n",
    "        left_y = pos[1] - y_offset\n",
    "        plot_decision_tree(node.left, depth + 1, (left_x, left_y), pos, 'Yes', x_offset, y_offset, ax)\n",
    "\n",
    "    if node.right:\n",
    "        right_x = pos[0] + x_offset / (2 ** depth)\n",
    "        right_y = pos[1] - y_offset\n",
    "        plot_decision_tree(node.right, depth + 1, (right_x, right_y), pos, 'No', x_offset, y_offset, ax)\n",
    "\n",
    "    if depth == 0:\n",
    "        plt.tight_layout()\n",
    "        plt.show()"
   ]
  },
  {
   "cell_type": "code",
   "execution_count": 15,
   "id": "a3e2ccd4",
   "metadata": {},
   "outputs": [
    {
     "name": "stderr",
     "output_type": "stream",
     "text": [
      "  0%|          | 0/5 [00:00<?, ?it/s]"
     ]
    },
    {
     "name": "stderr",
     "output_type": "stream",
     "text": [
      "100%|██████████| 5/5 [01:16<00:00, 15.38s/it]\n",
      "100%|██████████| 5/5 [00:04<00:00,  1.10it/s]\n",
      "100%|██████████| 5/5 [00:03<00:00,  1.41it/s]\n",
      "100%|██████████| 5/5 [00:00<00:00, 11.14it/s]\n",
      "100%|██████████| 5/5 [00:51<00:00, 10.30s/it]\n",
      "100%|██████████| 5/5 [00:07<00:00,  1.51s/it]\n",
      "100%|██████████| 5/5 [00:27<00:00,  5.43s/it]\n",
      "C:\\Users\\ogcicek\\AppData\\Local\\Temp\\ipykernel_23916\\3073732374.py:35: UserWarning: Tight layout not applied. The bottom and top margins cannot be made large enough to accommodate all Axes decorations.\n",
      "  plt.tight_layout()\n"
     ]
    },
    {
     "data": {
      "image/png": "[encoded data removed]",
      "text/plain": [
       "<Figure size 1200x600 with 1 Axes>"
      ]
     },
     "metadata": {},
     "output_type": "display_data"
    }
   ],
   "source": [
    "tree = build_tree(X_selected, y, depth=0)\n",
    "plot_decision_tree(tree)"
   ]
  },
  {
   "cell_type": "code",
   "execution_count": null,
   "id": "ab2de400",
   "metadata": {},
   "outputs": [],
   "source": []
  }
 ],
 "metadata": {
  "kernelspec": {
   "display_name": "Python 3",
   "language": "python",
   "name": "python3"
  },
  "language_info": {
   "codemirror_mode": {
    "name": "ipython",
    "version": 3
   },
   "file_extension": ".py",
   "mimetype": "text/x-python",
   "name": "python",
   "nbconvert_exporter": "python",
   "pygments_lexer": "ipython3",
   "version": "3.11.6"
  }
 },
 "nbformat": 4,
 "nbformat_minor": 5
}
