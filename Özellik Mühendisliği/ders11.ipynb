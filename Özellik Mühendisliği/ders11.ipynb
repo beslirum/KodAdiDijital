{
 "cells": [
  {
   "cell_type": "markdown",
   "id": "919e9ca8",
   "metadata": {},
   "source": [
    "**Özellik Mühendisliği**"
   ]
  },
  {
   "cell_type": "code",
   "execution_count": 4,
   "id": "23adc637",
   "metadata": {},
   "outputs": [
    {
     "name": "stdout",
     "output_type": "stream",
     "text": [
      "MaxAbs Scaler Öncesi Veri : \n",
      "     RPM  Engine_temp  Oil_pressure\n",
      "0   800           70            30\n",
      "1  1500           85            35\n",
      "2  2000           90            40\n",
      "3  2200           95            38\n",
      "4  8000          300           150\n",
      "MaxAbs Scaler : \n",
      "       RPM  Engine_temp  Oil_pressure\n",
      "0  0.1000     0.233333      0.200000\n",
      "1  0.1875     0.283333      0.233333\n",
      "2  0.2500     0.300000      0.266667\n",
      "3  0.2750     0.316667      0.253333\n",
      "4  1.0000     1.000000      1.000000\n"
     ]
    }
   ],
   "source": [
    "import pandas as pd\n",
    "import numpy as np\n",
    "\n",
    "data = {\n",
    "    \"RPM\" : [800, 1500, 2000, 2200, 8000],\n",
    "    \"Engine_temp\" : [70, 85, 90, 95, 300],\n",
    "    \"Oil_pressure\" : [30, 35, 40, 38, 150]\n",
    "}\n",
    "\n",
    "df = pd.DataFrame(data)\n",
    "\n",
    "def maxabs_scaler(X):\n",
    "    X = X.astype(float)\n",
    "    max_abs = np.abs(X).max(axis=0) #her sütundaki mutlak maksimumu hesaplamış olur axis=0 ile beraber\n",
    "    return X / max_abs\n",
    "\n",
    "df_max_abs = maxabs_scaler(df)\n",
    "\n",
    "\n",
    "print(\"MaxAbs Scaler Öncesi Veri : \\n\", df)\n",
    "print(\"MaxAbs Scaler : \\n\", df_max_abs)"
   ]
  },
  {
   "cell_type": "code",
   "execution_count": 7,
   "id": "fa1da9e7",
   "metadata": {},
   "outputs": [
    {
     "name": "stdout",
     "output_type": "stream",
     "text": [
      "Elimizdeki veri seti :\n",
      "     RPM  Engine_temp  Oil_pressure\n",
      "0   800           70            30\n",
      "1  1500           85            35\n",
      "2  2000           90            40\n",
      "3  2200           95            38\n",
      "4  8000          300           150\n",
      "\n",
      "Standard Scaling :\n",
      "         RPM  Engine_temp  Oil_pressure\n",
      "0 -0.723708    -0.600384     -0.558236\n",
      "1 -0.482472    -0.445112     -0.460642\n",
      "2 -0.310160    -0.393355     -0.363049\n",
      "3 -0.241236    -0.341598     -0.402086\n",
      "4  1.757576     1.780449      1.784013\n",
      "\n",
      "Kullanılan mean :\n",
      " RPM             2900.0\n",
      "Engine_temp      128.0\n",
      "Oil_pressure      58.6\n",
      "dtype: float64\n",
      "\n",
      "Kullanılan std değeri :\n",
      " RPM             2901.723626\n",
      "Engine_temp       96.604865\n",
      "Oil_pressure      51.232802\n",
      "dtype: float64\n"
     ]
    }
   ],
   "source": [
    "def standard_scaler(X: pd.DataFrame) -> pd.DataFrame :\n",
    "    mean = X.mean(axis=0)\n",
    "    std = X.std(axis=0)\n",
    "    scaled = (X- mean) / std\n",
    "    return scaled, mean, std\n",
    "\n",
    "\n",
    "df_std, mean_val, std_val = standard_scaler(df)\n",
    "\n",
    "print(\"Elimizdeki veri seti :\\n\", df)\n",
    "print(\"\\nStandard Scaling :\\n\", df_std)\n",
    "print(\"\\nKullanılan mean :\\n\", mean_val)\n",
    "print(\"\\nKullanılan std değeri :\\n\", std_val)"
   ]
  },
  {
   "cell_type": "code",
   "execution_count": 10,
   "id": "07d05a35",
   "metadata": {},
   "outputs": [
    {
     "name": "stdout",
     "output_type": "stream",
     "text": [
      "Elimizdeki veri seti :\n",
      "     RPM  Engine_temp  Oil_pressure\n",
      "0   800           70            30\n",
      "1  1500           85            35\n",
      "2  2000           90            40\n",
      "3  2200           95            38\n",
      "4  8000          300           150\n",
      "Robust Scaling:\n",
      "         RPM  Engine_temp  Oil_pressure\n",
      "0 -1.714286         -2.0          -1.6\n",
      "1 -0.714286         -0.5          -0.6\n",
      "2  0.000000          0.0           0.4\n",
      "3  0.285714          0.5           0.0\n",
      "4  8.571429         21.0          22.4\n",
      "\n",
      "Medyan değeri:\n",
      " RPM             2000.0\n",
      "Engine_temp       90.0\n",
      "Oil_pressure      38.0\n",
      "dtype: float64\n",
      "\n",
      "Q1 değeri:\n",
      " RPM             1500.0\n",
      "Engine_temp       85.0\n",
      "Oil_pressure      35.0\n",
      "Name: 0.25, dtype: float64\n",
      "\n",
      "Q3 değeri:\n",
      " RPM             2200.0\n",
      "Engine_temp       95.0\n",
      "Oil_pressure      40.0\n",
      "Name: 0.75, dtype: float64\n",
      "\n",
      "IQR değeri:\n",
      " RPM             700.0\n",
      "Engine_temp      10.0\n",
      "Oil_pressure      5.0\n",
      "dtype: float64\n"
     ]
    }
   ],
   "source": [
    "def robust_scaler(X):\n",
    "    median = X.median(axis=0)\n",
    "    q1 = X.quantile(0.25)\n",
    "    q3 = X.quantile(0.75)\n",
    "    iqr = q3 - q1\n",
    "    scaled = (X - median ) / iqr\n",
    "    return scaled, median, q1, q3, iqr\n",
    "\n",
    "df_robust, med_val_robust, q1_val, q3_val, iqr_val = robust_scaler(df)\n",
    "\n",
    "\n",
    "print(\"Elimizdeki veri seti :\\n\", df)\n",
    "print(\"Robust Scaling:\\n\", df_robust)\n",
    "print(\"\\nMedyan değeri:\\n\", med_val_robust)\n",
    "print(\"\\nQ1 değeri:\\n\", q1_val)\n",
    "print(\"\\nQ3 değeri:\\n\", q3_val)\n",
    "print(\"\\nIQR değeri:\\n\", iqr_val)"
   ]
  },
  {
   "cell_type": "code",
   "execution_count": null,
   "id": "2679f2c6",
   "metadata": {},
   "outputs": [],
   "source": []
  }
 ],
 "metadata": {
  "kernelspec": {
   "display_name": "Python 3",
   "language": "python",
   "name": "python3"
  },
  "language_info": {
   "codemirror_mode": {
    "name": "ipython",
    "version": 3
   },
   "file_extension": ".py",
   "mimetype": "text/x-python",
   "name": "python",
   "nbconvert_exporter": "python",
   "pygments_lexer": "ipython3",
   "version": "3.13.7"
  }
 },
 "nbformat": 4,
 "nbformat_minor": 5
}
