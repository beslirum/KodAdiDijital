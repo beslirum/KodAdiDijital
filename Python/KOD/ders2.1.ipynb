{
  "cells": [
    {
      "cell_type": "markdown",
      "source": [
        "Borusan'daki çalışanları yaşa göre kategorileyebileceğimiz bir fonksiyon ile dünü tekrar ederek başlayacağız."
      ],
      "metadata": {
        "id": "zcH4GfsZRpBV"
      }
    },
    {
      "cell_type": "code",
      "source": [
        "def filtrele(musteriler, min_yas=None, max_yas=None) :\n",
        "  sonuc=[] #başlangıçta boş liste olarak tanımladık, sonrasında değerleri buraya tanımlayacağız\n",
        "  for m in musteriler:\n",
        "    yas = m.get(\"age\")\n",
        "    if yas is None:\n",
        "      continue #yaş verisi bulunmadığında o veriyi atlamayı sağladı. Eksik veriye karşı önlem aldık\n",
        "    if min_yas is not None and yas < min_yas:\n",
        "      continue\n",
        "    if max_yas is not None and yas > max_yas:\n",
        "      continue\n",
        "    sonuc.append(m)\n",
        "  return sonuc\n"
      ],
      "metadata": {
        "id": "WjrDedi0QsAG"
      },
      "execution_count": null,
      "outputs": []
    },
    {
      "cell_type": "markdown",
      "source": [
        "switch case ile deneyeceğiz üstteki bloğu"
      ],
      "metadata": {
        "id": "f1hCdHHqUbXL"
      }
    },
    {
      "cell_type": "code",
      "source": [
        "def yas_kategorisi(yas: int) -> str: #tam sayı olarak alınan yaş bilgisini bir kategori olarak döndürmeye yarıyor\n",
        "  match yas: #match yapısı ile yaşların kuralları sağlanıyor\n",
        "  #işin kuralını case'de veriyoruz, match de bunu eşliyor\n",
        "    case _ if yas< 18:\n",
        "      return \"Çocuk\"\n",
        "    case _ if  18 <= yas <= 25:\n",
        "      return \"Genç\"\n",
        "    case _ if 26 <= yas <= 35:\n",
        "      return \"Orta Yaşlı\"\n",
        "    case _ if 26<= yas <= 35:\n",
        "      return \"Genç Yetişkin\"\n",
        "    case _ if 36 <= yas <= 45:\n",
        "      return \"Orta Yaş\"\n",
        "    case _ if 46 <= yas <= 60:\n",
        "      return \"Yaşlı\"\n",
        "    case _: #60 üstü bütün yaşlar için\n",
        "      return \"Bilinmeyen\""
      ],
      "metadata": {
        "id": "48ZJxcRaUXun"
      },
      "execution_count": null,
      "outputs": []
    },
    {
      "cell_type": "code",
      "source": [
        "{\"isim\" : \"Rümeysa\"}"
      ],
      "metadata": {
        "id": "OxMfoPD4X1qG"
      },
      "execution_count": null,
      "outputs": []
    },
    {
      "cell_type": "code",
      "source": [
        "from typing import Any, Iterable, Mapping, Sequence\n",
        "\n",
        "def bucket_customers_by_age(\n",
        "    customers : Iterable[Mapping[str, Any]] #Müşteri listesi (Her müşteri bir sözlük)\n",
        "    #her veri türü gelebilir. string türünde gelecek, sözlük yapısında olacak ve bunları iterasyonla işleyebilirm\n",
        "    buckets : Sequence[tupple[int, int]] # =(18,25) şeklinde yaş aralıklarını işler\n",
        "\n",
        ")"
      ],
      "metadata": {
        "id": "B1A_ttB6WXcd"
      },
      "execution_count": null,
      "outputs": []
    },
    {
      "cell_type": "code",
      "source": [],
      "metadata": {
        "id": "mYUCz63eWQ6l"
      },
      "execution_count": null,
      "outputs": []
    }
  ],
  "metadata": {
    "colab": {
      "name": "Colab'e hoş geldiniz.",
      "toc_visible": true,
      "provenance": []
    },
    "kernelspec": {
      "display_name": "Python 3",
      "name": "python3"
    }
  },
  "nbformat": 4,
  "nbformat_minor": 0
}