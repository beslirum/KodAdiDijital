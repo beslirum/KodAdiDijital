{
  "cells": [
    {
      "cell_type": "markdown",
      "source": [
        "**değişken_adı:str** ile string boyutunda yeni bir değişken tanımlamış oluyoruz.\n",
        "\n",
        "int .. , double .. boolean .., string .. diyerek değişken niteliğini tanımlayabiliriz. Noktalı yerler nitelik ismi olarak atanabilir."
      ],
      "metadata": {
        "id": "LLZl7nVVBCWf"
      }
    },
    {
      "cell_type": "code",
      "source": [
        "report_date:str = \"2025-09-02\"\n",
        "Daily_exchange_endpoint = \"https://api.getplatedname/exchange\"\n",
        "\n"
      ],
      "metadata": {
        "id": "pv1zo-gM-6Ih"
      },
      "execution_count": null,
      "outputs": []
    },
    {
      "cell_type": "markdown",
      "source": [
        "yukarıdan aşağı - soldan sağa doğru okunur ve sırası ile atama yapılır.\n",
        "Tek satırda iki değişken ataması:"
      ],
      "metadata": {
        "id": "AJO7eznaE-Tu"
      }
    },
    {
      "cell_type": "code",
      "source": [
        "call_success_rate, dropped_calls = 0.98, 42\n"
      ],
      "metadata": {
        "id": "p3gIDIL6Ett2"
      },
      "execution_count": null,
      "outputs": []
    },
    {
      "cell_type": "markdown",
      "source": [
        "Tuple (demet), Python'da bir sıralı ve değiştirilemez (immutable) veri koleksiyonudur. Parantezler () içine yazılır."
      ],
      "metadata": {
        "id": "hko-AGaEFzHY"
      }
    },
    {
      "cell_type": "code",
      "source": [
        "liste = [\"rümeysa\", 23, 4.4] #liste yapısı benim için değiştirilebilir bir yapıdır. ama tuple'da değiştirilemez.\n",
        "\n",
        "conversion_A, conversion_B = (0.94, 0.85) #sağdaki tuple, soldaki tuple ile açılabilecek. yani conversion_B 'yi açabilmek için conversion_A gerekli"
      ],
      "metadata": {
        "id": "G-NCcTxjFmyO"
      },
      "execution_count": null,
      "outputs": []
    },
    {
      "cell_type": "markdown",
      "source": [
        "Çöp alan"
      ],
      "metadata": {
        "id": "LB8-vIoKIQ60"
      }
    },
    {
      "cell_type": "code",
      "source": [
        "_, longitude, latitude = (\"abc123\", 29.012, 41.856)\n",
        "#_ ifadesi çöp alan oluşturur"
      ],
      "metadata": {
        "id": "NpJzDHK2GQi8"
      },
      "execution_count": null,
      "outputs": []
    },
    {
      "cell_type": "markdown",
      "source": [
        "star unpacking\n",
        "log parse"
      ],
      "metadata": {
        "id": "gH2TakAgIkhx"
      }
    },
    {
      "cell_type": "code",
      "source": [
        "ts, level, *message = [\"2025-09-02T10:22:06Z\", \"WARN\", \"High\", \"latency\", \"on\", \"pod-7\"]"
      ],
      "metadata": {
        "id": "_mgwKbX6IPH1"
      },
      "execution_count": null,
      "outputs": []
    },
    {
      "cell_type": "code",
      "source": [
        "from pathlib import Path\n",
        "RAW_DIR = Path(C://Downloads/data/raw) ; Curated_DIR = Path(\"data/curated\")"
      ],
      "metadata": {
        "id": "EthvAlxGKVNx"
      },
      "execution_count": 2,
      "outputs": []
    },
    {
      "cell_type": "markdown",
      "source": [
        "OS kütüphanesi"
      ],
      "metadata": {
        "id": "xJwHHAWJLLI2"
      }
    },
    {
      "cell_type": "code",
      "source": [
        "import OS\n",
        "REGION = os.getenv(\"REGION\", \"eu-central-1\")\n",
        "\n",
        "#cwd = bulunduğun klasörü gösterir\n",
        "cwd = os.getcwd()\n",
        "\n",
        "os.mkdir() #yeni bir klasör oluşturur"
      ],
      "metadata": {
        "id": "87Wzi5SuKXnA"
      },
      "execution_count": null,
      "outputs": []
    },
    {
      "cell_type": "markdown",
      "source": [
        "fonksiyonlar\n"
      ],
      "metadata": {
        "id": "4VKBCgEHRpQ3"
      }
    },
    {
      "cell_type": "code",
      "source": [
        "def selam(isim=\"misafir\"):\n",
        "  print(f\"Merhaba {isim}...\")"
      ],
      "metadata": {
        "id": "RrLjvJXPRaxh"
      },
      "execution_count": null,
      "outputs": []
    },
    {
      "cell_type": "code",
      "source": [
        "def topla(a: int, b: int) -> int: #-> int bu yapı sayı döndürüleceğini belirtiyor\n",
        "  return a+b"
      ],
      "metadata": {
        "id": "G_q2qgy_SUh5"
      },
      "execution_count": null,
      "outputs": []
    },
    {
      "cell_type": "code",
      "source": [
        "def siparis (*urunler, **detaylar):\n",
        "  print(\"Ürünler\" , urunler)\n",
        "  print(\"Detaylar\", detaylar)"
      ],
      "metadata": {
        "id": "EmLtD9dsSl8r"
      },
      "execution_count": null,
      "outputs": []
    },
    {
      "cell_type": "code",
      "source": [
        "def saf_topla (a,b):\n",
        "  return a+b\n",
        "\n",
        "def ekle(liste, eleman):\n",
        "  liste.append(eleman)\n"
      ],
      "metadata": {
        "id": "yhZOopiYTbIN"
      },
      "execution_count": null,
      "outputs": []
    },
    {
      "cell_type": "markdown",
      "source": [
        "hata yönetimi"
      ],
      "metadata": {
        "id": "X7meyO76T7Xa"
      }
    },
    {
      "cell_type": "code",
      "source": [
        "def sayiya_cevir(metin):\n",
        "  try :\n",
        "    return int(metin)\n",
        "  except ValueError:\n",
        "    return None\n",
        ""
      ],
      "metadata": {
        "id": "j1dyRxlqUP6D"
      },
      "execution_count": null,
      "outputs": []
    },
    {
      "cell_type": "markdown",
      "source": [
        "generator ile akış yönetimi"
      ],
      "metadata": {
        "id": "AAWZMfpvUzeg"
      }
    },
    {
      "cell_type": "code",
      "source": [
        "#nums = [1 2 3 ... 999]\n",
        "def only_even(nums : Iterable[int]):\n",
        "  for n in nums:\n",
        "    if n %2 == 0:\n",
        "      yield n\n",
        "\n",
        ""
      ],
      "metadata": {
        "id": "iO0WU-EsU1Do"
      },
      "execution_count": null,
      "outputs": []
    },
    {
      "cell_type": "markdown",
      "source": [
        "dekoratör"
      ],
      "metadata": {
        "id": "uII5VVufXjpQ"
      }
    },
    {
      "cell_type": "code",
      "source": [
        "def logla(fonk): #ön işlem ve son işlem yapısı\n",
        "  def sarmal (*a, **k):\n",
        "      print(\"Çalışıyor...\")\n",
        "      return fonk(*a, **k)\n",
        "    return sarmal\n",
        "\n",
        "#Bir fonksiyon çalıştırılmadan önce \"Çalışıyor...\" mesajı yazdıran basit bir loglama (kayıt tutma) dekoratörü oluşturur."
      ],
      "metadata": {
        "id": "xdqWpGkGXntD"
      },
      "execution_count": null,
      "outputs": []
    },
    {
      "cell_type": "code",
      "source": [
        "#performans için veri yolunu input/output noktalarını minimumda tutun.\n",
        "#sık sık çağırılan bir fonksiyon varsa functools.lru_cache kullanımı faydalı olur\n",
        "\n",
        "#Büyük listeleri kopyalamak yerine iterasyon ve dekoratör kullanımı faydalı olur"
      ],
      "metadata": {
        "id": "ewHXMU1OYiS4"
      },
      "execution_count": null,
      "outputs": []
    },
    {
      "cell_type": "code",
      "source": [],
      "metadata": {
        "id": "xFlFFX11bS30"
      },
      "execution_count": null,
      "outputs": []
    },
    {
      "cell_type": "code",
      "source": [
        "from functools import wraps\n",
        "\n",
        "def logged (func) :\n",
        "#dekoratör fonksiyon haline gelir. İçerisine başka bir fonksiyon aldığı için\n",
        "  @wraps(func) #bunun altına wrap uygulanır, logged func. ilgilendirmiyor.\n",
        "  def wrapper(*a, **kw):\n",
        "    print(f\"[CALL] {func.__name__} a={a} kw = {kw}\")\n",
        "    #fonksiyon cağırıldığında önce log basar. örn : add(3,4) çağrısında şu yazılır :\n",
        "    return func(*a, **kw) # asıl fonksiyonu çağırır\n",
        "  return wrapper # log fonksiyonu süslenmiş haliyle (wrapper) geri döndürür.\n",
        "\n",
        "  @logged\n",
        "  def add(a,b) : return a + b"
      ],
      "metadata": {
        "id": "cbQI8P0gZVPQ"
      },
      "execution_count": null,
      "outputs": []
    }
  ],
  "metadata": {
    "colab": {
      "name": "Colab'e hoş geldiniz.",
      "provenance": []
    },
    "kernelspec": {
      "display_name": "Python 3",
      "name": "python3"
    }
  },
  "nbformat": 4,
  "nbformat_minor": 0
}