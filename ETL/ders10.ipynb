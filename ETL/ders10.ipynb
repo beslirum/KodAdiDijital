{
 "cells": [
  {
   "cell_type": "code",
   "execution_count": null,
   "id": "e2885cf3",
   "metadata": {},
   "outputs": [],
   "source": [
    "import pyodbc\n",
    "\n",
    "conn_str = (\n",
    "    \"Driver = {ODBC Driver 17 for SQL Server};\" #Dricer sürümü bizim için önemli. 17 sayısı farazi yazıldı.\n",
    "    \"Server = tcp:kendi-synapse-server.database.windows.net;\"\n",
    "    \"Database = kendi-db;\"\n",
    "    \"Uid = \"\n",
    "    \"Pwd = \"\n",
    "    \"Encrypt = yes;\"\n",
    "    \"TrustServerCertificate = no;\"\n",
    "    \"Connection Timeout = 30;\"\n",
    ")\n",
    "\n",
    "#bağlantı açma\n",
    "\n",
    "conn = pyodbc.connect(conn_str)\n",
    "cursor = conn.cursor()\n",
    "\n",
    "#test sorgusu \n",
    "\n",
    "cursor.execute(\"SELECT TOP 5 sale_id, vehicle_vin, price_usd FROM core_sales;\")\n",
    "for row in cursor.fetchall():\n",
    "    print(row)"
   ]
  },
  {
   "cell_type": "code",
   "execution_count": null,
   "id": "b78a0ff4",
   "metadata": {},
   "outputs": [],
   "source": [
    "import pandas as pd\n",
    "\n",
    "df = pd.read_csv(\"smandira_sales.csv\")\n",
    "\n",
    " #audit verisi ekleme\n",
    "df[\"load_id\"] =    \n",
    "df[\"ingested_at\"] =    "
   ]
  },
  {
   "cell_type": "code",
   "execution_count": null,
   "id": "af8d9f45",
   "metadata": {},
   "outputs": [],
   "source": [
    "df[\"vehicle_vin\"] = df[\"vehicle_vin\"].str.upper()\n",
    "\n",
    "fx_rate = 41.33\n",
    "df[\"price_usd\"] = df.apply(\n",
    "    lambda x : [\"price\"] * fx_rate if x[\"currency\"] == \"USD\" else x[\"price\"],\n",
    "\n",
    ")\n",
    "\n",
    "df = df[df[\"price_usd\"] < 500000]"
   ]
  },
  {
   "cell_type": "code",
   "execution_count": null,
   "id": "7c92c05a",
   "metadata": {},
   "outputs": [],
   "source": [
    "from sqlalchemy import create_engine\n",
    "\n",
    "engine = create_engine(\n",
    "    'mssql+pyodbcÇ//username:......'\n",
    ")\n",
    "\n",
    "#dataframe'i staging tablosuna yazma\n",
    "\n",
    "\n",
    "df.to_sql(\n",
    "    'staging_sales',\n",
    "    con=engine,\n",
    "    if_exists='append',\n",
    "    index=False,\n",
    "    method='multi'\n",
    ")\n",
    "\n",
    "#büyük batchlerde fast_executemany = True --> 10 kat hızlandırır"
   ]
  },
  {
   "cell_type": "markdown",
   "id": "e9c0c212",
   "metadata": {},
   "source": [
    "Streaming + Batch Hybrid ETL"
   ]
  },
  {
   "cell_type": "code",
   "execution_count": null,
   "id": "14f66898",
   "metadata": {},
   "outputs": [],
   "source": [
    "#Satış verileri günlük CSV geliyor\n",
    "\n",
    "#Servis verileri IoT cihazlardan geliyor\n",
    "\n",
    "#ETL süreci 2 kanaldan işler\n",
    "\n",
    "#1-> Batch = CSV --> staging --> core --> mart\n",
    "#2 -> Kafka --> Synapse -->core_service tablosu --> mart"
   ]
  },
  {
   "cell_type": "code",
   "execution_count": null,
   "id": "31562c97",
   "metadata": {},
   "outputs": [],
   "source": [
    "from sqlalchemy import create_engine\n",
    "import pandas as pd\n",
    "\n",
    "#Extract\n",
    "df = pd.read_csv(\"../data/samandira_sales.csv\")\n",
    "\n",
    "#Transform\n",
    "df[\"vehicle_vin\"] = df[\"vehicle_vin\"].str.upper()\n",
    "\n",
    "fx_rate = 41.33\n",
    "df[\"price_usd\"] = df.apply(\n",
    "    lambda x : [\"price\"] * fx_rate if x[\"currency\"] == \"USD\" else x[\"price\"],\n",
    "\n",
    ")\n",
    "\n",
    "df = df[df[\"price_usd\"] < 500000]\n",
    "\n",
    "#Load\n",
    "engine = create_engine(\n",
    "    'mssql+pyodbcÇ//username:......'\n",
    ")\n",
    "\n",
    "#dataframe'i staging tablosuna yazma\n",
    "df.to_sql(\n",
    "    'staging_sales',\n",
    "    con=engine,\n",
    "    if_exists='append',\n",
    "    index=False,\n",
    "    method='multi'\n",
    ")"
   ]
  },
  {
   "cell_type": "code",
   "execution_count": null,
   "id": "8f6b5e5a",
   "metadata": {},
   "outputs": [],
   "source": [
    "from kafka import KafkaConsumer\n",
    "import json, pyodbc\n",
    "\n",
    "consumer = KafkaConsumer(\"service-events\", bootstrap_servers = \"broker:9092\")\n",
    "conn = pyodbc.connect(conn_str)\n",
    "cursor = conn.cursor()\n",
    "\n",
    "for x in consumer:\n",
    "    event = json.load(x.value)\n",
    "    cursor.execute(\"MERGE INTO core_service t\" \\\n",
    "    \"USING (SELECT ? AS vin, ? AS part, ? AS cost, ? AS service_time) s\" \\\n",
    "    \"ON t.vin = s.vin AND t.sevice_time = s.service_time \" \\\n",
    "    \"WHEN MATCHED THEN UPDATE SET cost = s.cost\" \\\n",
    "    \"WHEN NOT MATCH THEN INSERT (vin, part, service_time)\")"
   ]
  }
 ],
 "metadata": {
  "kernelspec": {
   "display_name": "Python 3",
   "language": "python",
   "name": "python3"
  },
  "language_info": {
   "codemirror_mode": {
    "name": "ipython",
    "version": 3
   },
   "file_extension": ".py",
   "mimetype": "text/x-python",
   "name": "python",
   "nbconvert_exporter": "python",
   "pygments_lexer": "ipython3",
   "version": "3.13.7"
  }
 },
 "nbformat": 4,
 "nbformat_minor": 5
}
