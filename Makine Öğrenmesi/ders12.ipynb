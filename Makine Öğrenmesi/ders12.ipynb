{
 "cells": [
  {
   "cell_type": "markdown",
   "id": "531df39e",
   "metadata": {},
   "source": [
    "**LİNEER REGRESYON**"
   ]
  },
  {
   "cell_type": "code",
   "execution_count": 34,
   "id": "f6d8d739",
   "metadata": {},
   "outputs": [],
   "source": [
    "import pandas as pd\n",
    "import numpy as np\n",
    "from sklearn.linear_model import Ridge, Lasso\n",
    "from sklearn.model_selection import GridSearchCV, RandomizedSearchCV, train_test_split\n",
    "from sklearn.metrics import mean_squared_error, r2_score"
   ]
  },
  {
   "cell_type": "code",
   "execution_count": 35,
   "id": "78966919",
   "metadata": {},
   "outputs": [
    {
     "name": "stderr",
     "output_type": "stream",
     "text": [
      "<>:1: SyntaxWarning: invalid escape sequence '\\D'\n",
      "<>:1: SyntaxWarning: invalid escape sequence '\\D'\n",
      "C:\\Users\\rbesli\\AppData\\Local\\Temp\\ipykernel_2420\\1590612803.py:1: SyntaxWarning: invalid escape sequence '\\D'\n",
      "  df = pd.read_csv(\"C:\\\\Users\\\\rbesli\\Desktop\\\\ders12\\\\engine_data.csv\")\n"
     ]
    }
   ],
   "source": [
    "df = pd.read_csv(\"C:\\\\Users\\\\rbesli\\Desktop\\\\ders12\\\\engine_data.csv\")"
   ]
  },
  {
   "cell_type": "code",
   "execution_count": 36,
   "id": "25e88a67",
   "metadata": {},
   "outputs": [],
   "source": [
    "X = df[[\"Engine rpm\",\"Lub oil pressure\",\"Fuel pressure\",\"Coolant pressure\",\"lub oil temp\",\"Coolant temp\"]]\n",
    "\n",
    "y = df[\"Engine Condition\"]\n",
    "\n",
    "X_train, X_test, y_train, y_test = train_test_split(X, y, test_size=0.2, random_state=42)"
   ]
  },
  {
   "cell_type": "markdown",
   "id": "90251644",
   "metadata": {},
   "source": [
    "GridSearchCV"
   ]
  },
  {
   "cell_type": "code",
   "execution_count": 37,
   "id": "6be35e50",
   "metadata": {},
   "outputs": [
    {
     "name": "stdout",
     "output_type": "stream",
     "text": [
      "Ridge - GridSearchCV En iyi Parametreler: {'alpha': 100}\n",
      "Ridge - En İyi CV Skoru (MSE): 0.20984844893128507\n"
     ]
    }
   ],
   "source": [
    "param_grid = {\"alpha\": [0.01, 0.1, 1, 10, 100]}  \n",
    "\n",
    "ridge = Ridge()\n",
    "\n",
    "\n",
    "grid_search = GridSearchCV(ridge, param_grid, cv=5, scoring=\"neg_mean_squared_error\") \n",
    "#cv = cross validation. veri kaç parçaya bölüneceğini gösterir\n",
    "#scoring -> neg_mean_squared_error. \n",
    "\n",
    "grid_search.fit(X_train, y_train)\n",
    "\n",
    "print(\"Ridge - GridSearchCV En iyi Parametreler:\", grid_search.best_params_)\n",
    "print(\"Ridge - En İyi CV Skoru (MSE):\", -grid_search.best_score_)  # Negatif değeri pozitife çeviriyoruz"
   ]
  },
  {
   "cell_type": "markdown",
   "id": "aad31084",
   "metadata": {},
   "source": [
    "Lasso "
   ]
  },
  {
   "cell_type": "code",
   "execution_count": 38,
   "id": "4bbb4dfa",
   "metadata": {},
   "outputs": [
    {
     "name": "stdout",
     "output_type": "stream",
     "text": [
      "Ridge Default - MSE: 0.2136164022297687 R kare skoru:  0.0870337703659737\n"
     ]
    }
   ],
   "source": [
    "ridge_default = Ridge(alpha=1.0)\n",
    "ridge_default.fit(X_train, y_train)\n",
    "\n",
    "lasso_default = Lasso(alpha=1.0, max_iter= 5000)\n",
    "lasso_default.fit(X_train, y_train)\n",
    "\n",
    "y_pred_ridge = ridge_default.predict(X_test)\n",
    "y_pred_lasso = ridge_default.predict(X_test)\n",
    "\n",
    "print(\"Ridge Default - MSE:\", mean_squared_error(y_test, y_pred_ridge), \"R kare skoru: \", r2_score(y_test, y_pred_ridge))"
   ]
  },
  {
   "cell_type": "code",
   "execution_count": 41,
   "id": "4aefb0fb",
   "metadata": {},
   "outputs": [],
   "source": [
    "import optuna\n",
    "\n",
    "def objective_ridge(trial):\n",
    "    alpha1 = trial.suggest_loguniform(\"alpha\", 1e-3, 1e3)\n",
    "    #0.001 ile 1000 arasında bir aralık belirlenir.\n",
    "    model = Ridge(alpha=alpha1)\n",
    "    model.fit(X_train, y_train)\n",
    "    y_pred= model.predict(X_test) #seçilen alpha ne kadar iyi seçilmiş.\n",
    "    return -mean_squared_error(y_test, y_pred)\n",
    "\n"
   ]
  },
  {
   "cell_type": "code",
   "execution_count": null,
   "id": "f29ac39e",
   "metadata": {},
   "outputs": [
    {
     "name": "stderr",
     "output_type": "stream",
     "text": [
      "[I 2025-09-17 13:58:20,829] A new study created in memory with name: no-name-d48ef26f-6b32-4f6f-9382-1c823be1b6be\n",
      "C:\\Users\\rbesli\\AppData\\Local\\Temp\\ipykernel_2420\\4242131859.py:4: FutureWarning: suggest_loguniform has been deprecated in v3.0.0. This feature will be removed in v6.0.0. See https://github.com/optuna/optuna/releases/tag/v3.0.0. Use suggest_float(..., log=True) instead.\n",
      "  alpha1 = trial.suggest_loguniform(\"alpha\", 1e-3, 1e3)\n",
      "[I 2025-09-17 13:58:20,838] Trial 0 finished with value: -0.21361671758058912 and parameters: {'alpha': 79.12375775587806}. Best is trial 0 with value: -0.21361671758058912.\n",
      "C:\\Users\\rbesli\\AppData\\Local\\Temp\\ipykernel_2420\\4242131859.py:4: FutureWarning: suggest_loguniform has been deprecated in v3.0.0. This feature will be removed in v6.0.0. See https://github.com/optuna/optuna/releases/tag/v3.0.0. Use suggest_float(..., log=True) instead.\n",
      "  alpha1 = trial.suggest_loguniform(\"alpha\", 1e-3, 1e3)\n",
      "[I 2025-09-17 13:58:20,846] Trial 1 finished with value: -0.21361639859929496 and parameters: {'alpha': 0.01774255639486267}. Best is trial 1 with value: -0.21361639859929496.\n",
      "C:\\Users\\rbesli\\AppData\\Local\\Temp\\ipykernel_2420\\4242131859.py:4: FutureWarning: suggest_loguniform has been deprecated in v3.0.0. This feature will be removed in v6.0.0. See https://github.com/optuna/optuna/releases/tag/v3.0.0. Use suggest_float(..., log=True) instead.\n",
      "  alpha1 = trial.suggest_loguniform(\"alpha\", 1e-3, 1e3)\n",
      "[I 2025-09-17 13:58:20,851] Trial 2 finished with value: -0.21361639901519983 and parameters: {'alpha': 0.13038450003314764}. Best is trial 1 with value: -0.21361639859929496.\n",
      "C:\\Users\\rbesli\\AppData\\Local\\Temp\\ipykernel_2420\\4242131859.py:4: FutureWarning: suggest_loguniform has been deprecated in v3.0.0. This feature will be removed in v6.0.0. See https://github.com/optuna/optuna/releases/tag/v3.0.0. Use suggest_float(..., log=True) instead.\n",
      "  alpha1 = trial.suggest_loguniform(\"alpha\", 1e-3, 1e3)\n",
      "[I 2025-09-17 13:58:20,857] Trial 3 finished with value: -0.2136164878250857 and parameters: {'alpha': 23.53729631788437}. Best is trial 1 with value: -0.21361639859929496.\n",
      "C:\\Users\\rbesli\\AppData\\Local\\Temp\\ipykernel_2420\\4242131859.py:4: FutureWarning: suggest_loguniform has been deprecated in v3.0.0. This feature will be removed in v6.0.0. See https://github.com/optuna/optuna/releases/tag/v3.0.0. Use suggest_float(..., log=True) instead.\n",
      "  alpha1 = trial.suggest_loguniform(\"alpha\", 1e-3, 1e3)\n",
      "[I 2025-09-17 13:58:20,863] Trial 4 finished with value: -0.21361970460226906 and parameters: {'alpha': 555.1177787578875}. Best is trial 1 with value: -0.21361639859929496.\n",
      "C:\\Users\\rbesli\\AppData\\Local\\Temp\\ipykernel_2420\\4242131859.py:4: FutureWarning: suggest_loguniform has been deprecated in v3.0.0. This feature will be removed in v6.0.0. See https://github.com/optuna/optuna/releases/tag/v3.0.0. Use suggest_float(..., log=True) instead.\n",
      "  alpha1 = trial.suggest_loguniform(\"alpha\", 1e-3, 1e3)\n",
      "[I 2025-09-17 13:58:20,869] Trial 5 finished with value: -0.2136164587376219 and parameters: {'alpha': 16.00721157809939}. Best is trial 1 with value: -0.21361639859929496.\n",
      "C:\\Users\\rbesli\\AppData\\Local\\Temp\\ipykernel_2420\\4242131859.py:4: FutureWarning: suggest_loguniform has been deprecated in v3.0.0. This feature will be removed in v6.0.0. See https://github.com/optuna/optuna/releases/tag/v3.0.0. Use suggest_float(..., log=True) instead.\n",
      "  alpha1 = trial.suggest_loguniform(\"alpha\", 1e-3, 1e3)\n",
      "[I 2025-09-17 13:58:20,876] Trial 6 finished with value: -0.21361650509169558 and parameters: {'alpha': 27.948449335530213}. Best is trial 1 with value: -0.21361639859929496.\n",
      "C:\\Users\\rbesli\\AppData\\Local\\Temp\\ipykernel_2420\\4242131859.py:4: FutureWarning: suggest_loguniform has been deprecated in v3.0.0. This feature will be removed in v6.0.0. See https://github.com/optuna/optuna/releases/tag/v3.0.0. Use suggest_float(..., log=True) instead.\n",
      "  alpha1 = trial.suggest_loguniform(\"alpha\", 1e-3, 1e3)\n",
      "[I 2025-09-17 13:58:20,886] Trial 7 finished with value: -0.21361640446663438 and parameters: {'alpha': 1.6040781683520497}. Best is trial 1 with value: -0.21361639859929496.\n",
      "C:\\Users\\rbesli\\AppData\\Local\\Temp\\ipykernel_2420\\4242131859.py:4: FutureWarning: suggest_loguniform has been deprecated in v3.0.0. This feature will be removed in v6.0.0. See https://github.com/optuna/optuna/releases/tag/v3.0.0. Use suggest_float(..., log=True) instead.\n",
      "  alpha1 = trial.suggest_loguniform(\"alpha\", 1e-3, 1e3)\n",
      "[I 2025-09-17 13:58:20,894] Trial 8 finished with value: -0.2136163993935459 and parameters: {'alpha': 0.2328282485179085}. Best is trial 1 with value: -0.21361639859929496.\n",
      "C:\\Users\\rbesli\\AppData\\Local\\Temp\\ipykernel_2420\\4242131859.py:4: FutureWarning: suggest_loguniform has been deprecated in v3.0.0. This feature will be removed in v6.0.0. See https://github.com/optuna/optuna/releases/tag/v3.0.0. Use suggest_float(..., log=True) instead.\n",
      "  alpha1 = trial.suggest_loguniform(\"alpha\", 1e-3, 1e3)\n",
      "[I 2025-09-17 13:58:20,903] Trial 9 finished with value: -0.21361639858428716 and parameters: {'alpha': 0.013677353201051868}. Best is trial 9 with value: -0.21361639858428716.\n",
      "C:\\Users\\rbesli\\AppData\\Local\\Temp\\ipykernel_2420\\4242131859.py:4: FutureWarning: suggest_loguniform has been deprecated in v3.0.0. This feature will be removed in v6.0.0. See https://github.com/optuna/optuna/releases/tag/v3.0.0. Use suggest_float(..., log=True) instead.\n",
      "  alpha1 = trial.suggest_loguniform(\"alpha\", 1e-3, 1e3)\n",
      "[I 2025-09-17 13:58:20,913] Trial 10 finished with value: -0.2136163985393175 and parameters: {'alpha': 0.0014960478722379268}. Best is trial 10 with value: -0.2136163985393175.\n",
      "C:\\Users\\rbesli\\AppData\\Local\\Temp\\ipykernel_2420\\4242131859.py:4: FutureWarning: suggest_loguniform has been deprecated in v3.0.0. This feature will be removed in v6.0.0. See https://github.com/optuna/optuna/releases/tag/v3.0.0. Use suggest_float(..., log=True) instead.\n",
      "  alpha1 = trial.suggest_loguniform(\"alpha\", 1e-3, 1e3)\n",
      "[I 2025-09-17 13:58:20,922] Trial 11 finished with value: -0.2136163985376077 and parameters: {'alpha': 0.0010328992906190602}. Best is trial 11 with value: -0.2136163985376077.\n",
      "C:\\Users\\rbesli\\AppData\\Local\\Temp\\ipykernel_2420\\4242131859.py:4: FutureWarning: suggest_loguniform has been deprecated in v3.0.0. This feature will be removed in v6.0.0. See https://github.com/optuna/optuna/releases/tag/v3.0.0. Use suggest_float(..., log=True) instead.\n",
      "  alpha1 = trial.suggest_loguniform(\"alpha\", 1e-3, 1e3)\n",
      "[I 2025-09-17 13:58:20,928] Trial 12 finished with value: -0.21361639853772316 and parameters: {'alpha': 0.0010641788428077835}. Best is trial 11 with value: -0.2136163985376077.\n",
      "C:\\Users\\rbesli\\AppData\\Local\\Temp\\ipykernel_2420\\4242131859.py:4: FutureWarning: suggest_loguniform has been deprecated in v3.0.0. This feature will be removed in v6.0.0. See https://github.com/optuna/optuna/releases/tag/v3.0.0. Use suggest_float(..., log=True) instead.\n",
      "  alpha1 = trial.suggest_loguniform(\"alpha\", 1e-3, 1e3)\n",
      "[I 2025-09-17 13:58:20,940] Trial 13 finished with value: -0.21361639853833547 and parameters: {'alpha': 0.0012300368731792295}. Best is trial 11 with value: -0.2136163985376077.\n",
      "C:\\Users\\rbesli\\AppData\\Local\\Temp\\ipykernel_2420\\4242131859.py:4: FutureWarning: suggest_loguniform has been deprecated in v3.0.0. This feature will be removed in v6.0.0. See https://github.com/optuna/optuna/releases/tag/v3.0.0. Use suggest_float(..., log=True) instead.\n",
      "  alpha1 = trial.suggest_loguniform(\"alpha\", 1e-3, 1e3)\n",
      "[I 2025-09-17 13:58:20,947] Trial 14 finished with value: -0.21361639856888429 and parameters: {'alpha': 0.009505083075751344}. Best is trial 11 with value: -0.2136163985376077.\n",
      "C:\\Users\\rbesli\\AppData\\Local\\Temp\\ipykernel_2420\\4242131859.py:4: FutureWarning: suggest_loguniform has been deprecated in v3.0.0. This feature will be removed in v6.0.0. See https://github.com/optuna/optuna/releases/tag/v3.0.0. Use suggest_float(..., log=True) instead.\n",
      "  alpha1 = trial.suggest_loguniform(\"alpha\", 1e-3, 1e3)\n",
      "[I 2025-09-17 13:58:20,954] Trial 15 finished with value: -0.21361639855052816 and parameters: {'alpha': 0.004532801637471717}. Best is trial 11 with value: -0.2136163985376077.\n",
      "C:\\Users\\rbesli\\AppData\\Local\\Temp\\ipykernel_2420\\4242131859.py:4: FutureWarning: suggest_loguniform has been deprecated in v3.0.0. This feature will be removed in v6.0.0. See https://github.com/optuna/optuna/releases/tag/v3.0.0. Use suggest_float(..., log=True) instead.\n",
      "  alpha1 = trial.suggest_loguniform(\"alpha\", 1e-3, 1e3)\n",
      "[I 2025-09-17 13:58:20,960] Trial 16 finished with value: -0.21361639880813701 and parameters: {'alpha': 0.0743081989455258}. Best is trial 11 with value: -0.2136163985376077.\n",
      "C:\\Users\\rbesli\\AppData\\Local\\Temp\\ipykernel_2420\\4242131859.py:4: FutureWarning: suggest_loguniform has been deprecated in v3.0.0. This feature will be removed in v6.0.0. See https://github.com/optuna/optuna/releases/tag/v3.0.0. Use suggest_float(..., log=True) instead.\n",
      "  alpha1 = trial.suggest_loguniform(\"alpha\", 1e-3, 1e3)\n",
      "[I 2025-09-17 13:58:20,967] Trial 17 finished with value: -0.21361640568521972 and parameters: {'alpha': 1.932804424450384}. Best is trial 11 with value: -0.2136163985376077.\n",
      "C:\\Users\\rbesli\\AppData\\Local\\Temp\\ipykernel_2420\\4242131859.py:4: FutureWarning: suggest_loguniform has been deprecated in v3.0.0. This feature will be removed in v6.0.0. See https://github.com/optuna/optuna/releases/tag/v3.0.0. Use suggest_float(..., log=True) instead.\n",
      "  alpha1 = trial.suggest_loguniform(\"alpha\", 1e-3, 1e3)\n",
      "[I 2025-09-17 13:58:20,975] Trial 18 finished with value: -0.2136163985377531 and parameters: {'alpha': 0.0010722813772251324}. Best is trial 11 with value: -0.2136163985376077.\n",
      "C:\\Users\\rbesli\\AppData\\Local\\Temp\\ipykernel_2420\\4242131859.py:4: FutureWarning: suggest_loguniform has been deprecated in v3.0.0. This feature will be removed in v6.0.0. See https://github.com/optuna/optuna/releases/tag/v3.0.0. Use suggest_float(..., log=True) instead.\n",
      "  alpha1 = trial.suggest_loguniform(\"alpha\", 1e-3, 1e3)\n",
      "[I 2025-09-17 13:58:20,980] Trial 19 finished with value: -0.21361639869210988 and parameters: {'alpha': 0.04288275625092336}. Best is trial 11 with value: -0.2136163985376077.\n",
      "C:\\Users\\rbesli\\AppData\\Local\\Temp\\ipykernel_2420\\4242131859.py:4: FutureWarning: suggest_loguniform has been deprecated in v3.0.0. This feature will be removed in v6.0.0. See https://github.com/optuna/optuna/releases/tag/v3.0.0. Use suggest_float(..., log=True) instead.\n",
      "  alpha1 = trial.suggest_loguniform(\"alpha\", 1e-3, 1e3)\n",
      "[I 2025-09-17 13:58:20,988] Trial 20 finished with value: -0.21361639855183023 and parameters: {'alpha': 0.0048855142267649546}. Best is trial 11 with value: -0.2136163985376077.\n",
      "C:\\Users\\rbesli\\AppData\\Local\\Temp\\ipykernel_2420\\4242131859.py:4: FutureWarning: suggest_loguniform has been deprecated in v3.0.0. This feature will be removed in v6.0.0. See https://github.com/optuna/optuna/releases/tag/v3.0.0. Use suggest_float(..., log=True) instead.\n",
      "  alpha1 = trial.suggest_loguniform(\"alpha\", 1e-3, 1e3)\n",
      "[I 2025-09-17 13:58:20,994] Trial 21 finished with value: -0.213616398537588 and parameters: {'alpha': 0.0010275530294619056}. Best is trial 21 with value: -0.213616398537588.\n",
      "C:\\Users\\rbesli\\AppData\\Local\\Temp\\ipykernel_2420\\4242131859.py:4: FutureWarning: suggest_loguniform has been deprecated in v3.0.0. This feature will be removed in v6.0.0. See https://github.com/optuna/optuna/releases/tag/v3.0.0. Use suggest_float(..., log=True) instead.\n",
      "  alpha1 = trial.suggest_loguniform(\"alpha\", 1e-3, 1e3)\n",
      "[I 2025-09-17 13:58:21,000] Trial 22 finished with value: -0.21361639854816913 and parameters: {'alpha': 0.003893797466230825}. Best is trial 21 with value: -0.213616398537588.\n",
      "C:\\Users\\rbesli\\AppData\\Local\\Temp\\ipykernel_2420\\4242131859.py:4: FutureWarning: suggest_loguniform has been deprecated in v3.0.0. This feature will be removed in v6.0.0. See https://github.com/optuna/optuna/releases/tag/v3.0.0. Use suggest_float(..., log=True) instead.\n",
      "  alpha1 = trial.suggest_loguniform(\"alpha\", 1e-3, 1e3)\n",
      "[I 2025-09-17 13:58:21,005] Trial 23 finished with value: -0.2136163986395208 and parameters: {'alpha': 0.028638466077801867}. Best is trial 21 with value: -0.213616398537588.\n",
      "C:\\Users\\rbesli\\AppData\\Local\\Temp\\ipykernel_2420\\4242131859.py:4: FutureWarning: suggest_loguniform has been deprecated in v3.0.0. This feature will be removed in v6.0.0. See https://github.com/optuna/optuna/releases/tag/v3.0.0. Use suggest_float(..., log=True) instead.\n",
      "  alpha1 = trial.suggest_loguniform(\"alpha\", 1e-3, 1e3)\n",
      "[I 2025-09-17 13:58:21,011] Trial 24 finished with value: -0.21361639987980396 and parameters: {'alpha': 0.3644548013730457}. Best is trial 21 with value: -0.213616398537588.\n",
      "C:\\Users\\rbesli\\AppData\\Local\\Temp\\ipykernel_2420\\4242131859.py:4: FutureWarning: suggest_loguniform has been deprecated in v3.0.0. This feature will be removed in v6.0.0. See https://github.com/optuna/optuna/releases/tag/v3.0.0. Use suggest_float(..., log=True) instead.\n",
      "  alpha1 = trial.suggest_loguniform(\"alpha\", 1e-3, 1e3)\n",
      "[I 2025-09-17 13:58:21,017] Trial 25 finished with value: -0.21361639854434464 and parameters: {'alpha': 0.0028578140926172955}. Best is trial 21 with value: -0.213616398537588.\n",
      "C:\\Users\\rbesli\\AppData\\Local\\Temp\\ipykernel_2420\\4242131859.py:4: FutureWarning: suggest_loguniform has been deprecated in v3.0.0. This feature will be removed in v6.0.0. See https://github.com/optuna/optuna/releases/tag/v3.0.0. Use suggest_float(..., log=True) instead.\n",
      "  alpha1 = trial.suggest_loguniform(\"alpha\", 1e-3, 1e3)\n",
      "[I 2025-09-17 13:58:21,022] Trial 26 finished with value: -0.2136163985660526 and parameters: {'alpha': 0.008738057469564395}. Best is trial 21 with value: -0.213616398537588.\n",
      "C:\\Users\\rbesli\\AppData\\Local\\Temp\\ipykernel_2420\\4242131859.py:4: FutureWarning: suggest_loguniform has been deprecated in v3.0.0. This feature will be removed in v6.0.0. See https://github.com/optuna/optuna/releases/tag/v3.0.0. Use suggest_float(..., log=True) instead.\n",
      "  alpha1 = trial.suggest_loguniform(\"alpha\", 1e-3, 1e3)\n",
      "[I 2025-09-17 13:58:21,029] Trial 27 finished with value: -0.213616398537683 and parameters: {'alpha': 0.0010532912018142713}. Best is trial 21 with value: -0.213616398537588.\n",
      "C:\\Users\\rbesli\\AppData\\Local\\Temp\\ipykernel_2420\\4242131859.py:4: FutureWarning: suggest_loguniform has been deprecated in v3.0.0. This feature will be removed in v6.0.0. See https://github.com/optuna/optuna/releases/tag/v3.0.0. Use suggest_float(..., log=True) instead.\n",
      "  alpha1 = trial.suggest_loguniform(\"alpha\", 1e-3, 1e3)\n",
      "[I 2025-09-17 13:58:21,036] Trial 28 finished with value: -0.21361639854406145 and parameters: {'alpha': 0.002781091199034038}. Best is trial 21 with value: -0.213616398537588.\n",
      "C:\\Users\\rbesli\\AppData\\Local\\Temp\\ipykernel_2420\\4242131859.py:4: FutureWarning: suggest_loguniform has been deprecated in v3.0.0. This feature will be removed in v6.0.0. See https://github.com/optuna/optuna/releases/tag/v3.0.0. Use suggest_float(..., log=True) instead.\n",
      "  alpha1 = trial.suggest_loguniform(\"alpha\", 1e-3, 1e3)\n",
      "[I 2025-09-17 13:58:21,041] Trial 29 finished with value: -0.2136164002529166 and parameters: {'alpha': 0.4654260747139121}. Best is trial 21 with value: -0.213616398537588.\n",
      "C:\\Users\\rbesli\\AppData\\Local\\Temp\\ipykernel_2420\\4242131859.py:4: FutureWarning: suggest_loguniform has been deprecated in v3.0.0. This feature will be removed in v6.0.0. See https://github.com/optuna/optuna/releases/tag/v3.0.0. Use suggest_float(..., log=True) instead.\n",
      "  alpha1 = trial.suggest_loguniform(\"alpha\", 1e-3, 1e3)\n",
      "[I 2025-09-17 13:58:21,048] Trial 30 finished with value: -0.21362116004820136 and parameters: {'alpha': 723.0020065718364}. Best is trial 21 with value: -0.213616398537588.\n",
      "C:\\Users\\rbesli\\AppData\\Local\\Temp\\ipykernel_2420\\4242131859.py:4: FutureWarning: suggest_loguniform has been deprecated in v3.0.0. This feature will be removed in v6.0.0. See https://github.com/optuna/optuna/releases/tag/v3.0.0. Use suggest_float(..., log=True) instead.\n",
      "  alpha1 = trial.suggest_loguniform(\"alpha\", 1e-3, 1e3)\n",
      "[I 2025-09-17 13:58:21,055] Trial 31 finished with value: -0.21361639853806713 and parameters: {'alpha': 0.0011573512607353951}. Best is trial 21 with value: -0.213616398537588.\n",
      "C:\\Users\\rbesli\\AppData\\Local\\Temp\\ipykernel_2420\\4242131859.py:4: FutureWarning: suggest_loguniform has been deprecated in v3.0.0. This feature will be removed in v6.0.0. See https://github.com/optuna/optuna/releases/tag/v3.0.0. Use suggest_float(..., log=True) instead.\n",
      "  alpha1 = trial.suggest_loguniform(\"alpha\", 1e-3, 1e3)\n",
      "[I 2025-09-17 13:58:21,060] Trial 32 finished with value: -0.21361639854345088 and parameters: {'alpha': 0.0026157036521008755}. Best is trial 21 with value: -0.213616398537588.\n",
      "C:\\Users\\rbesli\\AppData\\Local\\Temp\\ipykernel_2420\\4242131859.py:4: FutureWarning: suggest_loguniform has been deprecated in v3.0.0. This feature will be removed in v6.0.0. See https://github.com/optuna/optuna/releases/tag/v3.0.0. Use suggest_float(..., log=True) instead.\n",
      "  alpha1 = trial.suggest_loguniform(\"alpha\", 1e-3, 1e3)\n",
      "[I 2025-09-17 13:58:21,070] Trial 33 finished with value: -0.21361639861036855 and parameters: {'alpha': 0.020742063535326285}. Best is trial 21 with value: -0.213616398537588.\n",
      "C:\\Users\\rbesli\\AppData\\Local\\Temp\\ipykernel_2420\\4242131859.py:4: FutureWarning: suggest_loguniform has been deprecated in v3.0.0. This feature will be removed in v6.0.0. See https://github.com/optuna/optuna/releases/tag/v3.0.0. Use suggest_float(..., log=True) instead.\n",
      "  alpha1 = trial.suggest_loguniform(\"alpha\", 1e-3, 1e3)\n",
      "[I 2025-09-17 13:58:21,076] Trial 34 finished with value: -0.21361639856427592 and parameters: {'alpha': 0.008256779655696846}. Best is trial 21 with value: -0.213616398537588.\n",
      "C:\\Users\\rbesli\\AppData\\Local\\Temp\\ipykernel_2420\\4242131859.py:4: FutureWarning: suggest_loguniform has been deprecated in v3.0.0. This feature will be removed in v6.0.0. See https://github.com/optuna/optuna/releases/tag/v3.0.0. Use suggest_float(..., log=True) instead.\n",
      "  alpha1 = trial.suggest_loguniform(\"alpha\", 1e-3, 1e3)\n",
      "[I 2025-09-17 13:58:21,084] Trial 35 finished with value: -0.21361639854183992 and parameters: {'alpha': 0.002179331379936518}. Best is trial 21 with value: -0.213616398537588.\n",
      "C:\\Users\\rbesli\\AppData\\Local\\Temp\\ipykernel_2420\\4242131859.py:4: FutureWarning: suggest_loguniform has been deprecated in v3.0.0. This feature will be removed in v6.0.0. See https://github.com/optuna/optuna/releases/tag/v3.0.0. Use suggest_float(..., log=True) instead.\n",
      "  alpha1 = trial.suggest_loguniform(\"alpha\", 1e-3, 1e3)\n",
      "[I 2025-09-17 13:58:21,089] Trial 36 finished with value: -0.21361642307696002 and parameters: {'alpha': 6.597147586878189}. Best is trial 21 with value: -0.213616398537588.\n",
      "C:\\Users\\rbesli\\AppData\\Local\\Temp\\ipykernel_2420\\4242131859.py:4: FutureWarning: suggest_loguniform has been deprecated in v3.0.0. This feature will be removed in v6.0.0. See https://github.com/optuna/optuna/releases/tag/v3.0.0. Use suggest_float(..., log=True) instead.\n",
      "  alpha1 = trial.suggest_loguniform(\"alpha\", 1e-3, 1e3)\n",
      "[I 2025-09-17 13:58:21,094] Trial 37 finished with value: -0.21361765819961526 and parameters: {'alpha': 262.52527377408234}. Best is trial 21 with value: -0.213616398537588.\n",
      "C:\\Users\\rbesli\\AppData\\Local\\Temp\\ipykernel_2420\\4242131859.py:4: FutureWarning: suggest_loguniform has been deprecated in v3.0.0. This feature will be removed in v6.0.0. See https://github.com/optuna/optuna/releases/tag/v3.0.0. Use suggest_float(..., log=True) instead.\n",
      "  alpha1 = trial.suggest_loguniform(\"alpha\", 1e-3, 1e3)\n",
      "[I 2025-09-17 13:58:21,102] Trial 38 finished with value: -0.21361639878740524 and parameters: {'alpha': 0.06869326840699287}. Best is trial 21 with value: -0.213616398537588.\n",
      "C:\\Users\\rbesli\\AppData\\Local\\Temp\\ipykernel_2420\\4242131859.py:4: FutureWarning: suggest_loguniform has been deprecated in v3.0.0. This feature will be removed in v6.0.0. See https://github.com/optuna/optuna/releases/tag/v3.0.0. Use suggest_float(..., log=True) instead.\n",
      "  alpha1 = trial.suggest_loguniform(\"alpha\", 1e-3, 1e3)\n",
      "[I 2025-09-17 13:58:21,107] Trial 39 finished with value: -0.2136163985556704 and parameters: {'alpha': 0.005925740794700175}. Best is trial 21 with value: -0.213616398537588.\n",
      "C:\\Users\\rbesli\\AppData\\Local\\Temp\\ipykernel_2420\\4242131859.py:4: FutureWarning: suggest_loguniform has been deprecated in v3.0.0. This feature will be removed in v6.0.0. See https://github.com/optuna/optuna/releases/tag/v3.0.0. Use suggest_float(..., log=True) instead.\n",
      "  alpha1 = trial.suggest_loguniform(\"alpha\", 1e-3, 1e3)\n",
      "[I 2025-09-17 13:58:21,113] Trial 40 finished with value: -0.2136163986005119 and parameters: {'alpha': 0.018072196173318084}. Best is trial 21 with value: -0.213616398537588.\n",
      "C:\\Users\\rbesli\\AppData\\Local\\Temp\\ipykernel_2420\\4242131859.py:4: FutureWarning: suggest_loguniform has been deprecated in v3.0.0. This feature will be removed in v6.0.0. See https://github.com/optuna/optuna/releases/tag/v3.0.0. Use suggest_float(..., log=True) instead.\n",
      "  alpha1 = trial.suggest_loguniform(\"alpha\", 1e-3, 1e3)\n",
      "[I 2025-09-17 13:58:21,119] Trial 41 finished with value: -0.21361639854009667 and parameters: {'alpha': 0.0017071127199853834}. Best is trial 21 with value: -0.213616398537588.\n",
      "C:\\Users\\rbesli\\AppData\\Local\\Temp\\ipykernel_2420\\4242131859.py:4: FutureWarning: suggest_loguniform has been deprecated in v3.0.0. This feature will be removed in v6.0.0. See https://github.com/optuna/optuna/releases/tag/v3.0.0. Use suggest_float(..., log=True) instead.\n",
      "  alpha1 = trial.suggest_loguniform(\"alpha\", 1e-3, 1e3)\n",
      "[I 2025-09-17 13:58:21,124] Trial 42 finished with value: -0.21361639853766207 and parameters: {'alpha': 0.0010476186612884766}. Best is trial 21 with value: -0.213616398537588.\n",
      "C:\\Users\\rbesli\\AppData\\Local\\Temp\\ipykernel_2420\\4242131859.py:4: FutureWarning: suggest_loguniform has been deprecated in v3.0.0. This feature will be removed in v6.0.0. See https://github.com/optuna/optuna/releases/tag/v3.0.0. Use suggest_float(..., log=True) instead.\n",
      "  alpha1 = trial.suggest_loguniform(\"alpha\", 1e-3, 1e3)\n",
      "[I 2025-09-17 13:58:21,131] Trial 43 finished with value: -0.21361639853819997 and parameters: {'alpha': 0.0011933346773810168}. Best is trial 21 with value: -0.213616398537588.\n",
      "C:\\Users\\rbesli\\AppData\\Local\\Temp\\ipykernel_2420\\4242131859.py:4: FutureWarning: suggest_loguniform has been deprecated in v3.0.0. This feature will be removed in v6.0.0. See https://github.com/optuna/optuna/releases/tag/v3.0.0. Use suggest_float(..., log=True) instead.\n",
      "  alpha1 = trial.suggest_loguniform(\"alpha\", 1e-3, 1e3)\n",
      "[I 2025-09-17 13:58:21,137] Trial 44 finished with value: -0.21361639854179107 and parameters: {'alpha': 0.0021660996298442908}. Best is trial 21 with value: -0.213616398537588.\n",
      "C:\\Users\\rbesli\\AppData\\Local\\Temp\\ipykernel_2420\\4242131859.py:4: FutureWarning: suggest_loguniform has been deprecated in v3.0.0. This feature will be removed in v6.0.0. See https://github.com/optuna/optuna/releases/tag/v3.0.0. Use suggest_float(..., log=True) instead.\n",
      "  alpha1 = trial.suggest_loguniform(\"alpha\", 1e-3, 1e3)\n",
      "[I 2025-09-17 13:58:21,142] Trial 45 finished with value: -0.21361639853758033 and parameters: {'alpha': 0.001025476545830268}. Best is trial 45 with value: -0.21361639853758033.\n",
      "C:\\Users\\rbesli\\AppData\\Local\\Temp\\ipykernel_2420\\4242131859.py:4: FutureWarning: suggest_loguniform has been deprecated in v3.0.0. This feature will be removed in v6.0.0. See https://github.com/optuna/optuna/releases/tag/v3.0.0. Use suggest_float(..., log=True) instead.\n",
      "  alpha1 = trial.suggest_loguniform(\"alpha\", 1e-3, 1e3)\n",
      "[I 2025-09-17 13:58:21,149] Trial 46 finished with value: -0.21361639857951747 and parameters: {'alpha': 0.012385359917341566}. Best is trial 45 with value: -0.21361639853758033.\n",
      "C:\\Users\\rbesli\\AppData\\Local\\Temp\\ipykernel_2420\\4242131859.py:4: FutureWarning: suggest_loguniform has been deprecated in v3.0.0. This feature will be removed in v6.0.0. See https://github.com/optuna/optuna/releases/tag/v3.0.0. Use suggest_float(..., log=True) instead.\n",
      "  alpha1 = trial.suggest_loguniform(\"alpha\", 1e-3, 1e3)\n",
      "[I 2025-09-17 13:58:21,156] Trial 47 finished with value: -0.2136163985495518 and parameters: {'alpha': 0.004268332477319242}. Best is trial 45 with value: -0.21361639853758033.\n",
      "C:\\Users\\rbesli\\AppData\\Local\\Temp\\ipykernel_2420\\4242131859.py:4: FutureWarning: suggest_loguniform has been deprecated in v3.0.0. This feature will be removed in v6.0.0. See https://github.com/optuna/optuna/releases/tag/v3.0.0. Use suggest_float(..., log=True) instead.\n",
      "  alpha1 = trial.suggest_loguniform(\"alpha\", 1e-3, 1e3)\n",
      "[I 2025-09-17 13:58:21,161] Trial 48 finished with value: -0.2136168756845476 and parameters: {'alpha': 114.12495017856743}. Best is trial 45 with value: -0.21361639853758033.\n",
      "C:\\Users\\rbesli\\AppData\\Local\\Temp\\ipykernel_2420\\4242131859.py:4: FutureWarning: suggest_loguniform has been deprecated in v3.0.0. This feature will be removed in v6.0.0. See https://github.com/optuna/optuna/releases/tag/v3.0.0. Use suggest_float(..., log=True) instead.\n",
      "  alpha1 = trial.suggest_loguniform(\"alpha\", 1e-3, 1e3)\n",
      "[I 2025-09-17 13:58:21,168] Trial 49 finished with value: -0.21361639855588715 and parameters: {'alpha': 0.005984448766998551}. Best is trial 45 with value: -0.21361639853758033.\n"
     ]
    },
    {
     "name": "stdout",
     "output_type": "stream",
     "text": [
      "══════════════════════════════════════════════════\n",
      "OPTUNA RIDGE OPTIMIZATION SONUÇLARI\n",
      "══════════════════════════════════════════════════\n",
      "En iyi alpha: 0.001025\n",
      "En iyi skor (Negatif MSE): -0.2136\n",
      "En iyi MSE: 0.2136\n",
      "En iyi deneme no: 45\n",
      "{'alpha': 0.001025476545830268}\n"
     ]
    }
   ],
   "source": [
    "run_ridge = optuna.create_study(direction=\"maximize\")\n",
    "run_ridge.optimize(objective_ridge, n_trials=50)\n",
    "\n",
    "\n",
    "print(\"═\" * 50)\n",
    "print(\"OPTUNA RIDGE OPTIMIZATION SONUÇLARI\")\n",
    "print(\"═\" * 50)\n",
    "print(f\"En iyi alpha: {run_ridge.best_params['alpha']:.6f}\")\n",
    "print(f\"En iyi skor (Negatif MSE): {run_ridge.best_value:.4f}\")\n",
    "print(f\"En iyi MSE: {-run_ridge.best_value:.4f}\")\n",
    "print(f\"En iyi deneme no: {run_ridge.best_trial.number}\")\n",
    "\n",
    "#Sonuca göre iki çıkarım yapılır. Ya veri seti çok temiz. Ya da elimizde çok fazla özellik (feature) yok."
   ]
  },
  {
   "cell_type": "code",
   "execution_count": 55,
   "id": "ca8875e1",
   "metadata": {},
   "outputs": [],
   "source": [
    "best_ridge = Ridge(alpha=run_ridge.best_params[\"alpha\"])\n",
    "best_ridge.fit(X_train, y_train)\n",
    "y_pred_ridge_opt = best_ridge.predict(X_test)"
   ]
  },
  {
   "cell_type": "code",
   "execution_count": 56,
   "id": "10b19538",
   "metadata": {},
   "outputs": [],
   "source": [
    "import matplotlib.pyplot as plt"
   ]
  },
  {
   "cell_type": "code",
   "execution_count": 57,
   "id": "7ef19ab2",
   "metadata": {},
   "outputs": [
    {
     "data": {
      "image/png": "[encoded data removed]",
      "text/plain": [
       "<Figure size 1200x500 with 1 Axes>"
      ]
     },
     "metadata": {},
     "output_type": "display_data"
    }
   ],
   "source": [
    "plt.figure(figsize=(12,5))\n",
    "plt.subplot(1,2,1)\n",
    "plt.scatter(y_test, y_pred_ridge, alpha=0.5, label=\"Default Ridge\")\n",
    "plt.scatter(y_test, y_pred_ridge_opt, alpha=0.5, label=\"Opt Ridge\")\n",
    "plt.plot([y.min(), y.max()], [y.min(), y.max()], \"k--\")\n",
    "plt.xlabel(\"Gerçek Değer\")\n",
    "plt.ylabel(\"Tahmin\")\n",
    "plt.title(\"Ridge Refression - Öncesi ve Sonrası\")\n",
    "plt.legend()\n",
    "plt.show()"
   ]
  },
  {
   "cell_type": "markdown",
   "id": "c37fef93",
   "metadata": {},
   "source": [
    "Veri setinizde çok az parametre, küçük bir probleminiz varsa (birkaç yüz kombinasyon) GridSearchCV tercih edilebilir.\n",
    "\n",
    "Veri seti büyükse, aralık genişse ve çok parametre varsa RandomizedSearchCV tercih edilir.\n",
    "\n",
    "Hesap pahalı / verimli denemesi istersen Bayesian Opt (Optuna) tekniği tercih edilir.\n",
    "\n",
    "Deep Learning / pahalı deneyler, paralel trials varsa Population-Based Training veya Optuna + Pruner tercih edilir.\n",
    "\n",
    "Multi-objective : Bazı durumlarda sadece doğru opt. değil, hız ve hafıza kıllanımı da önemli olursa bu hiperparametre opt. tekniğini tercih ederiz."
   ]
  },
  {
   "cell_type": "code",
   "execution_count": null,
   "id": "d7293afb",
   "metadata": {},
   "outputs": [],
   "source": []
  }
 ],
 "metadata": {
  "kernelspec": {
   "display_name": "Python 3",
   "language": "python",
   "name": "python3"
  },
  "language_info": {
   "codemirror_mode": {
    "name": "ipython",
    "version": 3
   },
   "file_extension": ".py",
   "mimetype": "text/x-python",
   "name": "python",
   "nbconvert_exporter": "python",
   "pygments_lexer": "ipython3",
   "version": "3.13.7"
  }
 },
 "nbformat": 4,
 "nbformat_minor": 5
}
